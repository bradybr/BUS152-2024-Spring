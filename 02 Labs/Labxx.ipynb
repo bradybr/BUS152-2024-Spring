{
 "cells": [
  {
   "cell_type": "markdown",
   "id": "d8794e27-7581-48be-8c54-04d535c866f9",
   "metadata": {},
   "source": [
    "# Data Formats & Types"
   ]
  },
  {
   "cell_type": "code",
   "execution_count": 11,
   "id": "c1fdc0b5-9924-422b-86fd-e6451df5e1a9",
   "metadata": {},
   "outputs": [
    {
     "data": {
      "text/plain": [
       "ucimlrepo.dotdict.dotdict"
      ]
     },
     "execution_count": 11,
     "metadata": {},
     "output_type": "execute_result"
    }
   ],
   "source": [
    "# Import libraries\n",
    "from ucimlrepo import fetch_ucirepo, list_available_datasets\n",
    "import pandas as pd\n",
    "\n",
    "# Uncomment below to see which datasets are available\n",
    "#list_available_datasets()\n",
    "\n",
    "# Import Iris data (id = 53) and see what we get\n",
    "dat_in = fetch_ucirepo(id = 53)\n",
    "type(dat_in)"
   ]
  },
  {
   "cell_type": "markdown",
   "id": "e38711a7-ac76-4502-a24e-362651da4c8d",
   "metadata": {},
   "source": [
    "Ok, so `dat_in` is a dictionary.  Good news, we know how to see what's in there.  We could just print the whole thing to the screen, but that would take up a lot of real estate.  So how about we just try looking at the `.keys()` to see if we can tell what we want?"
   ]
  },
  {
   "cell_type": "code",
   "execution_count": 12,
   "id": "d1740132-1aa6-4bfe-b815-caa6b483a347",
   "metadata": {},
   "outputs": [
    {
     "name": "stdout",
     "output_type": "stream",
     "text": [
      "dict_keys(['data', 'metadata', 'variables'])\n"
     ]
    }
   ],
   "source": [
    "print(dat_in.keys())"
   ]
  },
  {
   "cell_type": "markdown",
   "id": "1894afbc-7551-4b97-bf99-e6dc7304ba9f",
   "metadata": {},
   "source": [
    "Ok nice.  We probably want what's stored in the \"data\" key if I had to guess.  Let's see what's in there next."
   ]
  },
  {
   "cell_type": "code",
   "execution_count": 13,
   "id": "92ef3695-1dfd-41ca-905c-9f7164e872bc",
   "metadata": {},
   "outputs": [
    {
     "data": {
      "text/plain": [
       "{'ids': None,\n",
       " 'features':      sepal length  sepal width  petal length  petal width\n",
       " 0             5.1          3.5           1.4          0.2\n",
       " 1             4.9          3.0           1.4          0.2\n",
       " 2             4.7          3.2           1.3          0.2\n",
       " 3             4.6          3.1           1.5          0.2\n",
       " 4             5.0          3.6           1.4          0.2\n",
       " ..            ...          ...           ...          ...\n",
       " 145           6.7          3.0           5.2          2.3\n",
       " 146           6.3          2.5           5.0          1.9\n",
       " 147           6.5          3.0           5.2          2.0\n",
       " 148           6.2          3.4           5.4          2.3\n",
       " 149           5.9          3.0           5.1          1.8\n",
       " \n",
       " [150 rows x 4 columns],\n",
       " 'targets':               class\n",
       " 0       Iris-setosa\n",
       " 1       Iris-setosa\n",
       " 2       Iris-setosa\n",
       " 3       Iris-setosa\n",
       " 4       Iris-setosa\n",
       " ..              ...\n",
       " 145  Iris-virginica\n",
       " 146  Iris-virginica\n",
       " 147  Iris-virginica\n",
       " 148  Iris-virginica\n",
       " 149  Iris-virginica\n",
       " \n",
       " [150 rows x 1 columns],\n",
       " 'original':      sepal length  sepal width  petal length  petal width           class\n",
       " 0             5.1          3.5           1.4          0.2     Iris-setosa\n",
       " 1             4.9          3.0           1.4          0.2     Iris-setosa\n",
       " 2             4.7          3.2           1.3          0.2     Iris-setosa\n",
       " 3             4.6          3.1           1.5          0.2     Iris-setosa\n",
       " 4             5.0          3.6           1.4          0.2     Iris-setosa\n",
       " ..            ...          ...           ...          ...             ...\n",
       " 145           6.7          3.0           5.2          2.3  Iris-virginica\n",
       " 146           6.3          2.5           5.0          1.9  Iris-virginica\n",
       " 147           6.5          3.0           5.2          2.0  Iris-virginica\n",
       " 148           6.2          3.4           5.4          2.3  Iris-virginica\n",
       " 149           5.9          3.0           5.1          1.8  Iris-virginica\n",
       " \n",
       " [150 rows x 5 columns],\n",
       " 'headers': Index(['sepal length', 'sepal width', 'petal length', 'petal width', 'class'], dtype='object')}"
      ]
     },
     "execution_count": 13,
     "metadata": {},
     "output_type": "execute_result"
    }
   ],
   "source": [
    "# Print the \"data\" object from the \"dat_in\" dictionary\n",
    "dat_in['data']"
   ]
  },
  {
   "cell_type": "markdown",
   "id": "501b6b7d-9890-46c2-bae3-8d612556408a",
   "metadata": {},
   "source": [
    "Hmm.  We can see the \"data\" object is another dictionary collection housing what we're actually looking looking for.  Looks like there's a data frame called \"original\" that is the complete original data set.  That's what we want.  Go get it."
   ]
  },
  {
   "cell_type": "code",
   "execution_count": 15,
   "id": "13f760a2-0120-43ba-abc8-c1cde9a26a6c",
   "metadata": {},
   "outputs": [
    {
     "data": {
      "text/html": [
       "<div>\n",
       "<style scoped>\n",
       "    .dataframe tbody tr th:only-of-type {\n",
       "        vertical-align: middle;\n",
       "    }\n",
       "\n",
       "    .dataframe tbody tr th {\n",
       "        vertical-align: top;\n",
       "    }\n",
       "\n",
       "    .dataframe thead th {\n",
       "        text-align: right;\n",
       "    }\n",
       "</style>\n",
       "<table border=\"1\" class=\"dataframe\">\n",
       "  <thead>\n",
       "    <tr style=\"text-align: right;\">\n",
       "      <th></th>\n",
       "      <th>sepal_length</th>\n",
       "      <th>sepal_width</th>\n",
       "      <th>petal_length</th>\n",
       "      <th>petal_width</th>\n",
       "      <th>class</th>\n",
       "    </tr>\n",
       "  </thead>\n",
       "  <tbody>\n",
       "    <tr>\n",
       "      <th>0</th>\n",
       "      <td>5.1</td>\n",
       "      <td>3.5</td>\n",
       "      <td>1.4</td>\n",
       "      <td>0.2</td>\n",
       "      <td>Iris-setosa</td>\n",
       "    </tr>\n",
       "    <tr>\n",
       "      <th>1</th>\n",
       "      <td>4.9</td>\n",
       "      <td>3.0</td>\n",
       "      <td>1.4</td>\n",
       "      <td>0.2</td>\n",
       "      <td>Iris-setosa</td>\n",
       "    </tr>\n",
       "    <tr>\n",
       "      <th>2</th>\n",
       "      <td>4.7</td>\n",
       "      <td>3.2</td>\n",
       "      <td>1.3</td>\n",
       "      <td>0.2</td>\n",
       "      <td>Iris-setosa</td>\n",
       "    </tr>\n",
       "    <tr>\n",
       "      <th>3</th>\n",
       "      <td>4.6</td>\n",
       "      <td>3.1</td>\n",
       "      <td>1.5</td>\n",
       "      <td>0.2</td>\n",
       "      <td>Iris-setosa</td>\n",
       "    </tr>\n",
       "    <tr>\n",
       "      <th>4</th>\n",
       "      <td>5.0</td>\n",
       "      <td>3.6</td>\n",
       "      <td>1.4</td>\n",
       "      <td>0.2</td>\n",
       "      <td>Iris-setosa</td>\n",
       "    </tr>\n",
       "    <tr>\n",
       "      <th>...</th>\n",
       "      <td>...</td>\n",
       "      <td>...</td>\n",
       "      <td>...</td>\n",
       "      <td>...</td>\n",
       "      <td>...</td>\n",
       "    </tr>\n",
       "    <tr>\n",
       "      <th>145</th>\n",
       "      <td>6.7</td>\n",
       "      <td>3.0</td>\n",
       "      <td>5.2</td>\n",
       "      <td>2.3</td>\n",
       "      <td>Iris-virginica</td>\n",
       "    </tr>\n",
       "    <tr>\n",
       "      <th>146</th>\n",
       "      <td>6.3</td>\n",
       "      <td>2.5</td>\n",
       "      <td>5.0</td>\n",
       "      <td>1.9</td>\n",
       "      <td>Iris-virginica</td>\n",
       "    </tr>\n",
       "    <tr>\n",
       "      <th>147</th>\n",
       "      <td>6.5</td>\n",
       "      <td>3.0</td>\n",
       "      <td>5.2</td>\n",
       "      <td>2.0</td>\n",
       "      <td>Iris-virginica</td>\n",
       "    </tr>\n",
       "    <tr>\n",
       "      <th>148</th>\n",
       "      <td>6.2</td>\n",
       "      <td>3.4</td>\n",
       "      <td>5.4</td>\n",
       "      <td>2.3</td>\n",
       "      <td>Iris-virginica</td>\n",
       "    </tr>\n",
       "    <tr>\n",
       "      <th>149</th>\n",
       "      <td>5.9</td>\n",
       "      <td>3.0</td>\n",
       "      <td>5.1</td>\n",
       "      <td>1.8</td>\n",
       "      <td>Iris-virginica</td>\n",
       "    </tr>\n",
       "  </tbody>\n",
       "</table>\n",
       "<p>150 rows × 5 columns</p>\n",
       "</div>"
      ],
      "text/plain": [
       "     sepal_length  sepal_width  petal_length  petal_width           class\n",
       "0             5.1          3.5           1.4          0.2     Iris-setosa\n",
       "1             4.9          3.0           1.4          0.2     Iris-setosa\n",
       "2             4.7          3.2           1.3          0.2     Iris-setosa\n",
       "3             4.6          3.1           1.5          0.2     Iris-setosa\n",
       "4             5.0          3.6           1.4          0.2     Iris-setosa\n",
       "..            ...          ...           ...          ...             ...\n",
       "145           6.7          3.0           5.2          2.3  Iris-virginica\n",
       "146           6.3          2.5           5.0          1.9  Iris-virginica\n",
       "147           6.5          3.0           5.2          2.0  Iris-virginica\n",
       "148           6.2          3.4           5.4          2.3  Iris-virginica\n",
       "149           5.9          3.0           5.1          1.8  Iris-virginica\n",
       "\n",
       "[150 rows x 5 columns]"
      ]
     },
     "execution_count": 15,
     "metadata": {},
     "output_type": "execute_result"
    }
   ],
   "source": [
    "# Extract the original dataset from the \"data\" dictionary\n",
    "dat = dat_in['data']['original'].copy()\n",
    "\n",
    "# Replace the spaces in the column names with underscores (definitely a good habit to get into)\n",
    "dat.columns = dat.columns.str.replace(' ', '_')\n",
    "dat"
   ]
  },
  {
   "cell_type": "code",
   "execution_count": 21,
   "id": "67dd8512-ed18-47e5-9d5d-e34339038dc4",
   "metadata": {},
   "outputs": [
    {
     "data": {
      "text/plain": [
       "class\n",
       "Iris-setosa        50\n",
       "Iris-versicolor    50\n",
       "Iris-virginica     50\n",
       "Name: count, dtype: int64"
      ]
     },
     "execution_count": 21,
     "metadata": {},
     "output_type": "execute_result"
    }
   ],
   "source": [
    "dat['class'].value_counts()"
   ]
  }
 ],
 "metadata": {
  "kernelspec": {
   "display_name": "Python 3 (ipykernel)",
   "language": "python",
   "name": "python3"
  },
  "language_info": {
   "codemirror_mode": {
    "name": "ipython",
    "version": 3
   },
   "file_extension": ".py",
   "mimetype": "text/x-python",
   "name": "python",
   "nbconvert_exporter": "python",
   "pygments_lexer": "ipython3",
   "version": "3.11.5"
  }
 },
 "nbformat": 4,
 "nbformat_minor": 5
}
