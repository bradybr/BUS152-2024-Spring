{
 "cells": [
  {
   "cell_type": "markdown",
   "id": "43b5a396-2b93-44d9-aae3-332d282efb30",
   "metadata": {},
   "source": [
    "# Lab 2.1<br>More Pandas"
   ]
  },
  {
   "cell_type": "markdown",
   "id": "6b9d1cf2-f9e0-4b84-918c-1a5c25ebb15f",
   "metadata": {},
   "source": [
    "## BUS152 - Spring 2024 <br> Brian Brady"
   ]
  },
  {
   "cell_type": "markdown",
   "id": "2249866d-8013-429e-8f2c-7a373df5cc30",
   "metadata": {},
   "source": [
    "### __Objectives__"
   ]
  },
  {
   "cell_type": "markdown",
   "id": "5eee8c4e-1b94-4cdd-8af0-959c2da15638",
   "metadata": {},
   "source": []
  },
  {
   "cell_type": "markdown",
   "id": "5dd35f1a-d8b3-480e-811e-f3a272a86d37",
   "metadata": {},
   "source": [
    "#### "
   ]
  },
  {
   "cell_type": "markdown",
   "id": "f4734f79-0c0a-4b9e-9882-a1aab94e382a",
   "metadata": {
    "tags": []
   },
   "source": []
  }
 ],
 "metadata": {
  "kernelspec": {
   "display_name": "Python 3 (ipykernel)",
   "language": "python",
   "name": "python3"
  },
  "language_info": {
   "codemirror_mode": {
    "name": "ipython",
    "version": 3
   },
   "file_extension": ".py",
   "mimetype": "text/x-python",
   "name": "python",
   "nbconvert_exporter": "python",
   "pygments_lexer": "ipython3",
   "version": "3.11.5"
  }
 },
 "nbformat": 4,
 "nbformat_minor": 5
}
