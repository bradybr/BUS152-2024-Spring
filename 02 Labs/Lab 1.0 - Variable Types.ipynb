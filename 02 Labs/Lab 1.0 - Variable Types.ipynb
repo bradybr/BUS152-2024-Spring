{
 "cells": [
  {
   "cell_type": "markdown",
   "id": "43b5a396-2b93-44d9-aae3-332d282efb30",
   "metadata": {},
   "source": [
    "# Lab 1.0<br>Python:  Variable Types"
   ]
  },
  {
   "cell_type": "markdown",
   "id": "6b9d1cf2-f9e0-4b84-918c-1a5c25ebb15f",
   "metadata": {},
   "source": [
    "## BUS152 - Spring 2024 <br> Brian Brady"
   ]
  },
  {
   "cell_type": "markdown",
   "id": "2249866d-8013-429e-8f2c-7a373df5cc30",
   "metadata": {},
   "source": [
    "### __Hello World__"
   ]
  },
  {
   "cell_type": "markdown",
   "id": "5eee8c4e-1b94-4cdd-8af0-959c2da15638",
   "metadata": {},
   "source": [
    "Before we get too carried away, let's do the first thing you should do when learning any new language:  Run your \"Hello World\".  This is a programming norm to quickly see the most basic functioning of whichever programming language you're learning."
   ]
  },
  {
   "cell_type": "markdown",
   "id": "a6bb3345-c520-49fd-9d0e-79a1cf0beaab",
   "metadata": {},
   "source": [
    "Give it a try by focusing in the next cell and clicking the _run_ button in the toolbar, or by pressing _shift + enter_."
   ]
  },
  {
   "cell_type": "code",
   "execution_count": null,
   "id": "56a79f3c-e281-4fdc-bc0f-b3e1a18acfe8",
   "metadata": {
    "tags": []
   },
   "outputs": [],
   "source": [
    "print(\"Hello World\")"
   ]
  },
  {
   "cell_type": "code",
   "execution_count": null,
   "id": "5a1652bc",
   "metadata": {},
   "outputs": [],
   "source": [
    "2+2"
   ]
  },
  {
   "cell_type": "markdown",
   "id": "2b5cb20f-3c2e-4169-bad0-7ef6371f2555",
   "metadata": {
    "tags": []
   },
   "source": [
    "Congratulations!  You've just run your first Python command.  A `print()` statement.  Now, see what happens when we introduce _assingments_ and _variables_.  Run the cell below and compare the results."
   ]
  },
  {
   "cell_type": "code",
   "execution_count": null,
   "id": "746cd0e2-0988-4b27-a610-eb04b47361ff",
   "metadata": {
    "tags": []
   },
   "outputs": [],
   "source": [
    "message = \"Hello World\""
   ]
  },
  {
   "cell_type": "markdown",
   "id": "1a7f7333-afcf-4485-bfe3-a12cc1f5d834",
   "metadata": {},
   "source": [
    "<br> Notice how nothing printed to the screen this time?  That's because all we've done is _assign_ the string `\"Hello World\"` to the _variable_ named `message` by using a single equals sign.  We didn't ask for the string to be returned or printed to the screen.\n",
    "\n",
    "Any guess as to how we can access the `\"Hello World\"` string now?  Good guess.  I'm positive you said ask for the _variable_ `message` to be returned so go ahead and give it a try."
   ]
  },
  {
   "cell_type": "code",
   "execution_count": null,
   "id": "dcab5834-eb66-4610-b308-05867a8e20c1",
   "metadata": {
    "tags": []
   },
   "outputs": [],
   "source": [
    "message"
   ]
  },
  {
   "cell_type": "markdown",
   "id": "1cd3f76f-7b7a-4227-b7c0-1861b4b941c5",
   "metadata": {},
   "source": [
    "You can call the variable directly like we did above, or you can ask explicitly with the `print()` command, which returns the value without quotes.  More on this later."
   ]
  },
  {
   "cell_type": "code",
   "execution_count": null,
   "id": "46945caf-c37b-4883-a51b-36595d09a41f",
   "metadata": {
    "tags": []
   },
   "outputs": [],
   "source": [
    "print(message)"
   ]
  },
  {
   "cell_type": "markdown",
   "id": "628fda78-1769-48db-93bf-1bc9667ed620",
   "metadata": {
    "tags": []
   },
   "source": [
    "Pretty neat, right?  You've just seen a taste of object oriented programming.  We can store objects in containers and later perform operations and call methods on them, which is pretty much all programming does, i.e. performing a set of instructions on a group of objects.  Don't worry, we'll get there.  We just wanted to dip your toe in the water first.  Now let's dive in and learn some beginner Python."
   ]
  },
  {
   "cell_type": "markdown",
   "id": "6b269d2e-a06c-4f7d-be9f-531105cab49a",
   "metadata": {},
   "source": [
    "### __Comments__"
   ]
  },
  {
   "cell_type": "markdown",
   "id": "4242c6fa-8644-48bb-a9cd-9e5bcbd83f19",
   "metadata": {},
   "source": [
    "Before jumping into Variable Types, let's talk about comments quickly so you'll know them when you see them."
   ]
  },
  {
   "cell_type": "code",
   "execution_count": null,
   "id": "0480f768-b19c-4c82-9381-fa1411a1fc7c",
   "metadata": {
    "tags": []
   },
   "outputs": [],
   "source": [
    "# This is a comment"
   ]
  },
  {
   "cell_type": "markdown",
   "id": "76c94925-2fba-43a5-acf5-9f335757f5a9",
   "metadata": {},
   "source": [
    "Comments are inserted by using the `#` sign in front of text, and are not evaluated as anything other than comment text.  We use them to say something informative about a piece of code that you want your users to understand, like below."
   ]
  },
  {
   "cell_type": "code",
   "execution_count": null,
   "id": "f6fb2ab1-6172-43b5-b794-beb100afdfa1",
   "metadata": {
    "tags": []
   },
   "outputs": [],
   "source": [
    "# Setting up the iterator i = 1, and the output container for a final simulation loop\n",
    "i = 1\n",
    "x = []"
   ]
  },
  {
   "cell_type": "code",
   "execution_count": null,
   "id": "82bc62da-d497-42d7-b321-1d52e3366b51",
   "metadata": {
    "tags": []
   },
   "outputs": [],
   "source": [
    "# Comments can be placed on top of the code or inline, however placing code above the block is generally preferred\n",
    "2 + 4   # Add 2 + 4"
   ]
  },
  {
   "cell_type": "markdown",
   "id": "79cf6c46-486f-4f63-992f-c36e48127d12",
   "metadata": {},
   "source": [
    "### __Variable Types__"
   ]
  },
  {
   "cell_type": "markdown",
   "id": "3aa977e3-9222-4f9b-8b68-64de77561ec9",
   "metadata": {},
   "source": [
    "In this first lesson, we'll introduce some basic data variable types you'll encounter frequently when working in python, and then on to some simple operations.\n",
    "\n",
    " - String\n",
    " - Integer\n",
    " - Float\n",
    " - Boolean\n",
    " - Datetime"
   ]
  },
  {
   "cell_type": "markdown",
   "id": "0eef27ff-1c7c-457d-9e16-ec61c8e5767e",
   "metadata": {
    "tags": []
   },
   "source": [
    "#### Strings"
   ]
  },
  {
   "cell_type": "markdown",
   "id": "64ae4f75-89b8-4d52-bce9-4b59bef70946",
   "metadata": {},
   "source": [
    "Below are various examples of text strings.  Run the cells and compare the outputs.  Notice the use of some version of parenthetic quotes which are needed for text values."
   ]
  },
  {
   "cell_type": "code",
   "execution_count": null,
   "id": "8b337714-72b9-4c63-a1b0-d95c658232e3",
   "metadata": {
    "tags": []
   },
   "outputs": [],
   "source": [
    "\"This is a string with double quotes\""
   ]
  },
  {
   "cell_type": "code",
   "execution_count": null,
   "id": "16db9372-07e8-46e0-8c90-75e2141baeff",
   "metadata": {
    "tags": []
   },
   "outputs": [],
   "source": [
    "'This is also a string, but with single quotes'"
   ]
  },
  {
   "cell_type": "code",
   "execution_count": null,
   "id": "0650d528-5fb2-4044-9d84-dcf0cf30918f",
   "metadata": {
    "tags": []
   },
   "outputs": [],
   "source": [
    "\"Both are fine, but mixing the types result in an error, like when closing a double quote with a single quote'"
   ]
  },
  {
   "cell_type": "markdown",
   "id": "3bdd17b3-af0f-45ae-9002-0c1b31c3e636",
   "metadata": {},
   "source": [
    "You'll learn that errors in python can be cryptic, but at least in this case it's pretty clear to see what the issue is."
   ]
  },
  {
   "cell_type": "markdown",
   "id": "e1a56b71-ac05-4e02-9ec2-b28e175a16bd",
   "metadata": {},
   "source": [
    "Either will work, but you'll probably want to get comfortable using double quotes as your default.  Here's a simple example of why, which allows you to encapsulate single quotes within your double quote string."
   ]
  },
  {
   "cell_type": "code",
   "execution_count": null,
   "id": "13b19e90-805b-4fb3-bbb0-a102873af55c",
   "metadata": {
    "tags": []
   },
   "outputs": [],
   "source": [
    "\"Yakity yak 'blah' yakity yak\""
   ]
  },
  {
   "cell_type": "markdown",
   "id": "904991b0-6acf-45f2-b451-3f4a1d3cecd4",
   "metadata": {},
   "source": [
    "So strings are just simple text, or even numeric values represented as character string values like below.  To represent numeric values as strings, one way is to use quotes, and another is using the `str()` function to explicitly change the data type from numeric to a string, both with the same resulting output.  More on this method later when we get to what's known as casting."
   ]
  },
  {
   "cell_type": "code",
   "execution_count": null,
   "id": "a4a5907a-eb72-4a74-898d-65fe21604bb5",
   "metadata": {
    "tags": []
   },
   "outputs": [],
   "source": [
    "# Save 4 as x, print the x variable and it's data type\n",
    "x = \"4\"\n",
    "print(x)\n",
    "print(type(x))"
   ]
  },
  {
   "cell_type": "code",
   "execution_count": null,
   "id": "33751fc1-1a48-4450-808e-6123320ade58",
   "metadata": {
    "tags": []
   },
   "outputs": [],
   "source": [
    "# Cast the numeric value 4 to a string\n",
    "x = str(4)\n",
    "print(x)\n",
    "print(type(x))"
   ]
  },
  {
   "cell_type": "markdown",
   "id": "5c4392f2-f4ce-488f-8b83-3465c597813c",
   "metadata": {},
   "source": [
    "We've already seen this next topic just above and with our Hello World program, but we can assign strings to variable objects and use them in operations afterwards.  You should name variables something descriptive so anyone looking at your program will be able to follow your code and interpret your intent."
   ]
  },
  {
   "cell_type": "code",
   "execution_count": null,
   "id": "9859e061-1e5e-4e17-a666-07cc2a582e7c",
   "metadata": {
    "tags": []
   },
   "outputs": [],
   "source": [
    "favorite_class = \"DS300 - Practical DS & ML\"\n",
    "print(favorite_class)\n",
    "type(favorite_class)"
   ]
  },
  {
   "cell_type": "markdown",
   "id": "cbb8b900-9dc1-4012-8696-b6e0828c9903",
   "metadata": {},
   "source": [
    "There are a few rules and best practices you should follow when naming objects.  They cannot start with numbers, use special characters or spaces, or be python reserved keywords.  So no trying to use any of the following:"
   ]
  },
  {
   "cell_type": "code",
   "execution_count": null,
   "id": "9b93d9ac-b34d-4f51-9b6a-f55fbddbf46c",
   "metadata": {
    "tags": []
   },
   "outputs": [],
   "source": [
    "help(\"keywords\")"
   ]
  },
  {
   "cell_type": "code",
   "execution_count": null,
   "id": "b1873afb-0f72-4290-91c2-4dc4a477a8a8",
   "metadata": {
    "tags": []
   },
   "outputs": [],
   "source": [
    "# \"False\" is a reserved keyword\n",
    "False = 1"
   ]
  },
  {
   "cell_type": "markdown",
   "id": "f0f9f62d-87f3-4cff-b7de-d297bc95a100",
   "metadata": {
    "tags": []
   },
   "source": [
    "Now let's try some simple concantenation and printing operations with strings."
   ]
  },
  {
   "cell_type": "code",
   "execution_count": null,
   "id": "1c4c5c02-0527-48cb-979d-606707946ad4",
   "metadata": {
    "tags": []
   },
   "outputs": [],
   "source": [
    "my_teacher = \"Brian\"\n",
    "\"My teacher's first name is \" + my_teacher + \"!\""
   ]
  },
  {
   "cell_type": "markdown",
   "id": "06c0264c-a78f-45c3-addb-62e6251a820a",
   "metadata": {},
   "source": [
    "String concatenation can be done in a couple of diferrent ways.  Using the `+` operator like above, which knows to stitch the characters together instead of trying to add text together because of their data types, but you could also use a method called `str.format()`, which is a little outdated though and verbose compared to the improved `f-string` method which we'll instead recommend and show below."
   ]
  },
  {
   "cell_type": "code",
   "execution_count": null,
   "id": "ade1fd7a-e732-414f-bc3b-94e01c8f9e71",
   "metadata": {
    "tags": []
   },
   "outputs": [],
   "source": [
    "year = 2023\n",
    "class_name = \"DS300\"\n",
    "f\"You are in the first year, {year}, for this class {class_name}\""
   ]
  },
  {
   "cell_type": "markdown",
   "id": "f8bae2bb-ca46-487c-a9fc-00b953164264",
   "metadata": {},
   "source": [
    "All you need to do to use _f-strings_ is start the string with a letter `f` and then add in curly brackets `{}` with the variable names inside wherever you want them inserted."
   ]
  },
  {
   "cell_type": "markdown",
   "id": "593a474d-ddeb-45b1-bdac-a5f81824598b",
   "metadata": {
    "tags": []
   },
   "source": [
    "Tons more we can do with strings which we'll get to when we reach operations and methods, but this will do for now.  Let's move on to numeric values."
   ]
  },
  {
   "cell_type": "markdown",
   "id": "0a09eeca-d905-4efc-8240-7b5259a63d6c",
   "metadata": {},
   "source": [
    "#### Integers"
   ]
  },
  {
   "cell_type": "markdown",
   "id": "7a8d4c43-bc4d-40c3-affc-bcfa3bbe704e",
   "metadata": {},
   "source": [
    "Here we'll start with basic whole numbers. <br> Numbers can take two data types: 1) Integers and 2) Floats.  Let's see what happens starting with a whole number and calling the `type()` function on the number 4."
   ]
  },
  {
   "cell_type": "code",
   "execution_count": null,
   "id": "77c142f9-afdc-4b64-ad54-b919982b6e5d",
   "metadata": {
    "tags": []
   },
   "outputs": [],
   "source": [
    "type(4)"
   ]
  },
  {
   "cell_type": "markdown",
   "id": "30edd123-c9b1-4a5f-81b1-f28a712e15ab",
   "metadata": {
    "tags": []
   },
   "source": [
    "From the output above we can see that the whole number 4 is an integer value, designated by the 'int'.  So integers are simple whole number values as expected.  "
   ]
  },
  {
   "cell_type": "markdown",
   "id": "5a0ba0c5-e38f-4470-b441-fb539012b2f9",
   "metadata": {
    "tags": []
   },
   "source": [
    "Now what do we expect if we try the same with a decimal value?"
   ]
  },
  {
   "cell_type": "code",
   "execution_count": null,
   "id": "8ccb0313-1e8f-43cb-9325-b579ca6fd2b6",
   "metadata": {
    "tags": []
   },
   "outputs": [],
   "source": [
    "type(7.2)"
   ]
  },
  {
   "cell_type": "markdown",
   "id": "94cc9fe6-ec7f-4ff0-a5cc-988811860d8f",
   "metadata": {},
   "source": [
    "#### Floats"
   ]
  },
  {
   "cell_type": "markdown",
   "id": "9c8b1fcb-a211-4bbf-8f30-ffed3b6ad3a1",
   "metadata": {
    "tags": []
   },
   "source": [
    "Interesting.  Now we're dealing with a float since a numeric decimal value is no longer an integer.  Pretty simple."
   ]
  },
  {
   "cell_type": "code",
   "execution_count": null,
   "id": "b406b48f-f3a7-4c72-b414-9cd6e5185510",
   "metadata": {
    "tags": []
   },
   "outputs": [],
   "source": [
    "float_1 = 10\n",
    "float_2 = 5"
   ]
  },
  {
   "cell_type": "code",
   "execution_count": null,
   "id": "736c0e15-3180-4d8d-84b4-8a5a3b763b06",
   "metadata": {
    "tags": []
   },
   "outputs": [],
   "source": [
    "# \"/\" is the mathematical division operator in Python\n",
    "float_1 / float_2"
   ]
  },
  {
   "cell_type": "code",
   "execution_count": null,
   "id": "7afee697-be24-48f8-850a-46b5bfdae75c",
   "metadata": {
    "tags": []
   },
   "outputs": [],
   "source": [
    "type(float_1 / float_2)"
   ]
  },
  {
   "cell_type": "markdown",
   "id": "c45ab6f4-f8b7-4f43-8e16-ef110aff88a7",
   "metadata": {},
   "source": [
    "Now let's learn something else fun about python.  Python is dynamically typed, meaning it does not interpret commands until they are executed, unlike some other languages.  You'll come to understand this is a big deal as you start learning new programming lanugages.  This means python can infer the data types and make changes; whereas with some other languages, you'll need to declare their data types of upfront and they are not allowed to change."
   ]
  },
  {
   "cell_type": "markdown",
   "id": "0def9919-fd2d-42c6-a4da-a66b4126fb11",
   "metadata": {
    "tags": []
   },
   "source": [
    "Let's see this in action."
   ]
  },
  {
   "cell_type": "code",
   "execution_count": null,
   "id": "eabde746-dfb1-4a39-b73e-191079e0a460",
   "metadata": {
    "tags": []
   },
   "outputs": [],
   "source": [
    "x = 4\n",
    "y = 5\n",
    "z = x + y\n",
    "print(type(x))\n",
    "print(type(y))\n",
    "print(type(z))"
   ]
  },
  {
   "cell_type": "markdown",
   "id": "f0eabe57-c7bd-418e-a563-c78204281fa8",
   "metadata": {
    "tags": []
   },
   "source": [
    "Ok, there's some new stuff here but let's start with what we know.  We have two integer values assigned to two variables, `x` and `y`.  Now we're also getting our first taste of a mathematical operation performed on values stored in variables.  You can see that the output value 9 stored in `z` is also an integer.  So now we know adding two integers together will result in another integer."
   ]
  },
  {
   "cell_type": "markdown",
   "id": "f2022d62-8796-4ede-ac3a-94d63453e78d",
   "metadata": {
    "tags": []
   },
   "source": [
    "Now let's try adding an a integer and a float together. Start by changing `y` to a float and then adding `x + y`."
   ]
  },
  {
   "cell_type": "code",
   "execution_count": null,
   "id": "211af7b5-7848-4ed7-b200-fbc32dfda334",
   "metadata": {
    "tags": []
   },
   "outputs": [],
   "source": [
    "y = 7.2\n",
    "print(type(x))\n",
    "print(type(y))"
   ]
  },
  {
   "cell_type": "code",
   "execution_count": null,
   "id": "29a60af4-7a44-48f7-85e4-418f8a252ad7",
   "metadata": {
    "tags": []
   },
   "outputs": [],
   "source": [
    "z = x + y\n",
    "print(z)\n",
    "print(type(z))"
   ]
  },
  {
   "cell_type": "markdown",
   "id": "afe88c74-b236-4c80-a7e8-ec8ad2166985",
   "metadata": {},
   "source": [
    "So what did we learn?  Because we introduced a float level of precision with one of our inputs, the result will be the more complex data type of a float as well."
   ]
  },
  {
   "cell_type": "markdown",
   "id": "9b76eabe-252e-48b0-962b-f151b1986b05",
   "metadata": {},
   "source": [
    "#### Booleans"
   ]
  },
  {
   "cell_type": "markdown",
   "id": "9c3a1703-9e2a-4820-b77b-38259cfda839",
   "metadata": {},
   "source": [
    "Next up:  Booleans. These are simple types that evaluate an expression and resolve to either a \"True\" or \"False\".  The possibilities are endless for complex expressions, however Booleans are very simple.  They will be explored more as we advance in our learning, but you'll very quickly come to understand how important and useful they are."
   ]
  },
  {
   "cell_type": "code",
   "execution_count": null,
   "id": "049219cc-564b-49b8-a334-de04a68d3b06",
   "metadata": {},
   "outputs": [],
   "source": [
    "print(type(True))\n",
    "print(type(False))"
   ]
  },
  {
   "cell_type": "markdown",
   "id": "4f4c1a33-68f3-4498-8973-0f8ff22ad1e5",
   "metadata": {},
   "source": [
    "Setting aside for now the new topics below we have not discussed yet, go ahead and run the few examples of boolean values in conditionals and expressions below and see how they evaluate."
   ]
  },
  {
   "cell_type": "code",
   "execution_count": null,
   "id": "e870a125-aa83-495c-96bb-ae40c0eaca6d",
   "metadata": {
    "tags": []
   },
   "outputs": [],
   "source": [
    "print(5 == 5)\n",
    "type(5 == 5)"
   ]
  },
  {
   "cell_type": "code",
   "execution_count": null,
   "id": "fe19b498-a8fe-4950-ad76-ed7ecc539514",
   "metadata": {
    "tags": []
   },
   "outputs": [],
   "source": [
    "5 == 10"
   ]
  },
  {
   "cell_type": "code",
   "execution_count": null,
   "id": "db651159-e6b9-44f8-9080-0d5ad08e5114",
   "metadata": {
    "tags": []
   },
   "outputs": [],
   "source": [
    "animal = \"horse\"\n",
    "print(animal == \"horse\")\n",
    "print(animal == \"cat\")"
   ]
  },
  {
   "cell_type": "code",
   "execution_count": null,
   "id": "efd13f01-543c-4f68-8e6b-bfcc23f78650",
   "metadata": {
    "tags": []
   },
   "outputs": [],
   "source": [
    "# Is the value contained in the \"animal\" variable greater than the string \"apple\"?\n",
    "animal > \"apple\""
   ]
  },
  {
   "cell_type": "code",
   "execution_count": null,
   "id": "f5d38aec-1ce6-4d00-8370-2feb87dab410",
   "metadata": {
    "tags": []
   },
   "outputs": [],
   "source": [
    "age = 16\n",
    "(age > 12) & (age < 20)"
   ]
  },
  {
   "cell_type": "code",
   "execution_count": null,
   "id": "e0d3ad01-09cc-4192-9d27-d4fd3d636581",
   "metadata": {
    "tags": []
   },
   "outputs": [],
   "source": [
    "age > 21"
   ]
  },
  {
   "cell_type": "code",
   "execution_count": null,
   "id": "ab3ad695-289d-43cb-a825-14e8e679778e",
   "metadata": {
    "tags": []
   },
   "outputs": [],
   "source": [
    "(age > 12 & age < 20) & (age > 21)"
   ]
  },
  {
   "cell_type": "code",
   "execution_count": null,
   "id": "39120775-511f-4765-bd8f-65fa4e153f32",
   "metadata": {
    "tags": []
   },
   "outputs": [],
   "source": [
    "x = 5\n",
    "y = 7\n",
    "print(x and y < 10)\n",
    "print(x and y > 10)"
   ]
  },
  {
   "cell_type": "code",
   "execution_count": null,
   "id": "a31a4deb-1a4e-428c-8aee-11b4a2b49ebe",
   "metadata": {
    "tags": []
   },
   "outputs": [],
   "source": [
    "# \"in\" is a logical comparison operator we'll learn about in a future lesson\n",
    "5 in [1,3,5,7]"
   ]
  },
  {
   "cell_type": "code",
   "execution_count": null,
   "id": "f1fe6144-99f4-49f5-bd23-a63f81cb3d78",
   "metadata": {
    "tags": []
   },
   "outputs": [],
   "source": [
    "# This is called a \"list comprehension\" which we'll cover later,\n",
    "# but for not at least understand how it's checking whether or not 3 is less than each individual value in the list\n",
    "[ x < 3 for x in [1,2,3,4,5] ]"
   ]
  },
  {
   "cell_type": "markdown",
   "id": "a2795a30-ba8b-4514-bac3-bcbaf922941b",
   "metadata": {
    "tags": []
   },
   "source": [
    "#### Datetime"
   ]
  },
  {
   "cell_type": "markdown",
   "id": "1b101061-012f-4d40-bf24-1903dcd24100",
   "metadata": {},
   "source": [
    "Working with dates and times are a suprisingly complicated topic.  Working with them in python requires importing non-standard libraries which will introduce shortly when we get to real data."
   ]
  }
 ],
 "metadata": {
  "kernelspec": {
   "display_name": "Python 3 (ipykernel)",
   "language": "python",
   "name": "python3"
  },
  "language_info": {
   "codemirror_mode": {
    "name": "ipython",
    "version": 3
   },
   "file_extension": ".py",
   "mimetype": "text/x-python",
   "name": "python",
   "nbconvert_exporter": "python",
   "pygments_lexer": "ipython3",
   "version": "3.11.5"
  }
 },
 "nbformat": 4,
 "nbformat_minor": 5
}
