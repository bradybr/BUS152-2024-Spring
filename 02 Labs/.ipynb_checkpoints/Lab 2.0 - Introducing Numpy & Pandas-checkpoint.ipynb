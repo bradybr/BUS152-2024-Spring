{
 "cells": [
  {
   "cell_type": "markdown",
   "id": "43b5a396-2b93-44d9-aae3-332d282efb30",
   "metadata": {},
   "source": [
    "# Lab 2.0<br>Introducing Numpy & Pandas"
   ]
  },
  {
   "cell_type": "markdown",
   "id": "6b9d1cf2-f9e0-4b84-918c-1a5c25ebb15f",
   "metadata": {},
   "source": [
    "## BUS152 - Spring 2024 <br> Brian Brady"
   ]
  },
  {
   "cell_type": "markdown",
   "id": "2249866d-8013-429e-8f2c-7a373df5cc30",
   "metadata": {},
   "source": [
    "### __Objectives__"
   ]
  },
  {
   "cell_type": "markdown",
   "id": "5eee8c4e-1b94-4cdd-8af0-959c2da15638",
   "metadata": {},
   "source": [
    "This lesson will introduce us to two extremely useful and popular libraries that extend what base Python can do.  We can only scratch the suface of everything these two utilities can do, but the plan is to introduce you to the basics now, and you'll pick up more advanced functionality as you begin working on real projects.\n",
    "\n",
    "Below are the objectives for this lesson.\n",
    "\n",
    "- Learn why we need to use external libraries and functions\n",
    "- Learn how to load and call external libraries and functions\n",
    "- Learn the basics of Numpy and Pandas"
   ]
  },
  {
   "cell_type": "markdown",
   "id": "5dd35f1a-d8b3-480e-811e-f3a272a86d37",
   "metadata": {},
   "source": [
    "### __Loading Libraries__"
   ]
  },
  {
   "cell_type": "markdown",
   "id": "f4734f79-0c0a-4b9e-9882-a1aab94e382a",
   "metadata": {
    "tags": []
   },
   "source": [
    "Recall that everything we've been doing so far is with base Python, and Python is a open source, general purpose coding language.  What this means is, the source code can be adapted and extended to do additional things not included in the base distribution.  This is exactly what makes the langauage so powerful.  \n",
    "\n",
    "So in our case for data analysis and mathematical modeling, we'll need to get comfortable working with a few extremely common add-on libraries:  Numpy and Pandas.  There will be others that are pretty common, but these first two are the basis for which everything else is built."
   ]
  },
  {
   "cell_type": "markdown",
   "id": "da259d99-2404-48d2-b331-2ff5d2265ec0",
   "metadata": {},
   "source": [
    "First things first, you'll need to _load_ whichever libraries you want to use every time you boot up your favorite IDE or start your Jupyter kernel.  You will almost always need to use Numpy, Pandas, and a few others we'll get to later, for every single project, so you might as well get in the habit of loading them straight away.  The general convention is to load all of your libraries at the top of your script and use common aliases (i.e. `np` for numpy, `pd` for pandas)."
   ]
  },
  {
   "cell_type": "markdown",
   "id": "da3363b8-e4a5-4b42-8d82-546cd8da1d37",
   "metadata": {},
   "source": [
    "To load a library, we use the `import` command, followed by the library name, `numpy`, and then `as alias` if applicable.  This only has to be done once per file, notebook, or session."
   ]
  },
  {
   "cell_type": "code",
   "execution_count": null,
   "id": "a3a1b94d-9536-46da-b1e6-74e6a68fd502",
   "metadata": {},
   "outputs": [],
   "source": [
    "# Numpy is imported with the alias \"np\", and Pandas as \"pd\", by convention\n",
    "import numpy as np\n",
    "import pandas as pd"
   ]
  },
  {
   "cell_type": "markdown",
   "id": "c2c0d26e-ef40-400d-932b-e72b2c322884",
   "metadata": {},
   "source": [
    "### __Library Functionality__"
   ]
  },
  {
   "cell_type": "markdown",
   "id": "0c824379-511b-448d-90c9-f6733137aecc",
   "metadata": {},
   "source": [
    "We now have access to all of the functions that come with the `numpy` and `pandas` installations.  If we want to know what's available in a library, we can see that simply by using the `dir()` function."
   ]
  },
  {
   "cell_type": "code",
   "execution_count": null,
   "id": "4bf1b569-5681-42b9-9bd7-a9f4f38d3812",
   "metadata": {},
   "outputs": [],
   "source": [
    "# Truncated output to only the last 10 functions in the directory list\n",
    "dir(np)[-10:]"
   ]
  },
  {
   "cell_type": "markdown",
   "id": "3e157ace-fb09-46b6-90c6-1b3041bc58f1",
   "metadata": {},
   "source": [
    "Now, if you want to see what one of these functions does, try typing the library alias/name followed by a period, then the function, and finally a question mark."
   ]
  },
  {
   "cell_type": "code",
   "execution_count": null,
   "id": "fb561a45-5340-45ec-bace-1466a8e10310",
   "metadata": {},
   "outputs": [],
   "source": [
    "np.zeros?"
   ]
  },
  {
   "cell_type": "markdown",
   "id": "7dd0ea19-0144-4108-84c3-6762a32d69d4",
   "metadata": {},
   "source": [
    "We can see from the docstring output that `np.zeros()` is designed to \"Return a new array of given shape and type, filled with zeros\".  Google will also be your friend here when you want to know how to use some function, e.g. google \"numpy zeros function examples\" and you'll have plenty of tutorials to learn from in no time.\n",
    "\n",
    "So to use `np.zeros()`, we can see under the \"Parameters\" section that all we need to do is to supply it with at least one number for the shape of the array we want.  All of the other parameters are optional.  Let's try it."
   ]
  },
  {
   "cell_type": "code",
   "execution_count": null,
   "id": "936b2439-065c-4402-913f-7ac99b31b215",
   "metadata": {},
   "outputs": [],
   "source": [
    "np.zeros(3)"
   ]
  },
  {
   "cell_type": "markdown",
   "id": "264a9f1e-2b50-471d-92fa-84ab0436e810",
   "metadata": {},
   "source": [
    "So anytime we want to use something from numpy, we have to prepend the function with `np.`.  You'll get the hang of this in no time.\n",
    "\n",
    "Let's move on to what Numpy and Pandas actually do for us."
   ]
  },
  {
   "cell_type": "markdown",
   "id": "3209fe60-ee40-4189-9f25-a8a98469b944",
   "metadata": {},
   "source": [
    "### __Numpy__"
   ]
  },
  {
   "cell_type": "markdown",
   "id": "5795930f-581e-48a4-9904-ff22dcb9d5c6",
   "metadata": {},
   "source": [
    "Numpy, short for Numerical Python, is one of the foundational libraries for numerical computing in Python.  Nearly all of the mathematical and scientific packages and capabilities will be built on top of this library (McKinney, 2022).  It is extremely fast and efficient, and will outperform native Python equivalents so we should try to use it whenever possible.  Numpy is an expansive topic, but below are the main points and a taste of what we're going to be using it for.\n",
    "\n",
    "- ndarray, which are efficient multidimensional arrays providing fast array-oriented arithmetic operations and flexible broadcasting capabilities (operations between different sized arrays)\n",
    "- Mathematical functions for fast operations on entire arrays of data without having to write loops\n",
    "- Linear algebra and random number generation\n",
    "\n",
    "Numpy does not provide any mathematical or scientific functions; however, it is an indespensible foundation for those libraries when we get to them.  "
   ]
  },
  {
   "cell_type": "markdown",
   "id": "83a27351-e2e6-4d7d-83d7-568d329f6a4f",
   "metadata": {},
   "source": [
    "First thing we always need to do is before using any library utilities is to load our library."
   ]
  },
  {
   "cell_type": "code",
   "execution_count": null,
   "id": "8bb1deab-c551-4ff9-8158-9535d7a57d39",
   "metadata": {},
   "outputs": [],
   "source": [
    "# Import numpy with the standard \"np\" alias\n",
    "import numpy as np"
   ]
  },
  {
   "cell_type": "markdown",
   "id": "54fe0df9-c691-44f1-829a-c94114b1fc31",
   "metadata": {},
   "source": [
    "##### __ndarray__"
   ]
  },
  {
   "cell_type": "markdown",
   "id": "f17d822b-1439-4478-a410-ddb0cc198dd7",
   "metadata": {},
   "source": [
    "Let's start with the basic feature of Numpy: N-dimensional arrays"
   ]
  },
  {
   "cell_type": "markdown",
   "id": "e83c70b7-f273-482a-9c7f-7ca3769ee834",
   "metadata": {},
   "source": [
    "We can create them in any number of ways.  Below are several examples of a 1-dimensional array."
   ]
  },
  {
   "cell_type": "code",
   "execution_count": null,
   "id": "d2fc2825-3c0e-4a1e-8358-e0eb101b56ce",
   "metadata": {},
   "outputs": [],
   "source": [
    "# Using the numpy a-range() function to generate a range of numbers from 1-10\n",
    "np.arange(1,11)"
   ]
  },
  {
   "cell_type": "code",
   "execution_count": null,
   "id": "cf2bce4c-c7f4-4407-b80a-5721b5994274",
   "metadata": {},
   "outputs": [],
   "source": [
    "# Recall working with Python's native range() function earlier?\n",
    "# Notice the difference.  range() returns a list, while np.arange() returns an array.\n",
    "list(range(1,11))"
   ]
  },
  {
   "cell_type": "markdown",
   "id": "4af795f0-19e7-4d9a-a764-a4647261e1c6",
   "metadata": {},
   "source": [
    "How about explicitly calling the `array()` function on a list?"
   ]
  },
  {
   "cell_type": "code",
   "execution_count": null,
   "id": "20ce0e44-ba92-4e10-8bf9-8dc2677b6525",
   "metadata": {},
   "outputs": [],
   "source": [
    "np.array([1,2,3,4,5,6,7,8,9,10])"
   ]
  },
  {
   "cell_type": "markdown",
   "id": "51a6e03c-4ded-4e83-8f10-d43f812cd87f",
   "metadata": {},
   "source": [
    "How about a multidimensional array?  Let's try a 3x3 (rows x columns) array of 3 separate lists and see what we get."
   ]
  },
  {
   "cell_type": "code",
   "execution_count": null,
   "id": "21638b17-5408-489c-96c5-c788b8c664d4",
   "metadata": {},
   "outputs": [],
   "source": [
    "arr = np.array([ [1,2,3],\n",
    "                 [4,5,6],\n",
    "                 [7,8,9]\n",
    "               ])\n",
    "arr"
   ]
  },
  {
   "cell_type": "code",
   "execution_count": null,
   "id": "910550e5-f6ac-4b0b-8854-cda875d71e24",
   "metadata": {},
   "outputs": [],
   "source": [
    "# shape will tell us how many rows and columns we have\n",
    "arr.shape"
   ]
  },
  {
   "cell_type": "markdown",
   "id": "e217faba-1e77-4924-a499-a32c87521851",
   "metadata": {},
   "source": [
    "<h5>Arithmetic with Arrays</h5>"
   ]
  },
  {
   "cell_type": "markdown",
   "id": "d98d24be-226c-4c4b-90c5-e12461648027",
   "metadata": {},
   "source": [
    "Let's create an array and perform some basic arithmetic operations on it and see what happens."
   ]
  },
  {
   "cell_type": "code",
   "execution_count": null,
   "id": "f79c15d2-344d-4909-810e-0eb015327380",
   "metadata": {},
   "outputs": [],
   "source": [
    "arr = np.array([[1,2,3], [4,5,6]])\n",
    "arr"
   ]
  },
  {
   "cell_type": "markdown",
   "id": "9a99d332-e904-4ea7-80b1-f6cd9620dafe",
   "metadata": {},
   "source": [
    "Any arithmetic operations between _equal_ sized arrays applies the operation element-wise like below."
   ]
  },
  {
   "cell_type": "code",
   "execution_count": null,
   "id": "38aca466-dea1-4bae-9d55-8748c0759afb",
   "metadata": {},
   "outputs": [],
   "source": [
    "# Multiply the array by itself\n",
    "arr * arr"
   ]
  },
  {
   "cell_type": "code",
   "execution_count": null,
   "id": "97e6e5da-b3a5-4dd1-9e02-f8eea40d6fa0",
   "metadata": {},
   "outputs": [],
   "source": [
    "# Subtract the array from itself\n",
    "arr - arr"
   ]
  },
  {
   "cell_type": "markdown",
   "id": "fd5f0556-1c1a-4ea8-87a9-9a1692fab757",
   "metadata": {},
   "source": [
    "Arithmetic operations with scalars (single values) propagate the scalar argument to each element in the array, like below."
   ]
  },
  {
   "cell_type": "code",
   "execution_count": null,
   "id": "08e453ea-37e7-4ed2-9869-f28546991041",
   "metadata": {},
   "outputs": [],
   "source": [
    "2 * arr"
   ]
  },
  {
   "cell_type": "markdown",
   "id": "49750966-8d59-41a3-b713-f4288649ab78",
   "metadata": {},
   "source": [
    "##### __Indexing and Slicing__"
   ]
  },
  {
   "cell_type": "markdown",
   "id": "73de5eb2-68c5-40be-9faa-d522dc5134bb",
   "metadata": {},
   "source": [
    "1-dimensional arrays behave just like lists so no big surprises here."
   ]
  },
  {
   "cell_type": "code",
   "execution_count": null,
   "id": "5fa10377-7855-407d-a04e-45831bc6f762",
   "metadata": {},
   "outputs": [],
   "source": [
    "arr1 = np.arange(5)\n",
    "arr1"
   ]
  },
  {
   "cell_type": "code",
   "execution_count": null,
   "id": "4b692851-1aee-4047-abea-e73d9eafca8b",
   "metadata": {},
   "outputs": [],
   "source": [
    "# Extract the 3rd element (remember, it's still 0 indexed based)\n",
    "arr1[2]"
   ]
  },
  {
   "cell_type": "code",
   "execution_count": null,
   "id": "72344839-e273-4391-8c56-c11e33ea095b",
   "metadata": {},
   "outputs": [],
   "source": [
    "# Extract the 2nd through 4th elements\n",
    "arr1[1:4]"
   ]
  },
  {
   "cell_type": "markdown",
   "id": "330ffb3c-d3f2-4356-98a1-e886d635a40a",
   "metadata": {},
   "source": [
    "Multidemensional arrays take a bit of getting used to but will become second nature soon.  The format is `[rows,columns]` using the slicing and indexing notations you've already learned."
   ]
  },
  {
   "cell_type": "code",
   "execution_count": null,
   "id": "3f042e46-e34b-4ae3-b5ac-a268f9c9d08b",
   "metadata": {},
   "outputs": [],
   "source": [
    "arr2 = np.array([[1,2,3], [4,5,6]])\n",
    "arr2"
   ]
  },
  {
   "cell_type": "code",
   "execution_count": null,
   "id": "5a9ea08f-8f5e-434c-88b8-286cb524c3c1",
   "metadata": {},
   "outputs": [],
   "source": [
    "# Extract the value in the 1st row and 2nd column\n",
    "arr2[0,1]"
   ]
  },
  {
   "cell_type": "code",
   "execution_count": null,
   "id": "23b0c9e8-9cf1-4e34-9f6c-7ba617c6b6a7",
   "metadata": {},
   "outputs": [],
   "source": [
    "# Extract the 3rd column\n",
    "arr2[:,2]"
   ]
  },
  {
   "cell_type": "code",
   "execution_count": null,
   "id": "630709d2-da7e-43a7-b378-ce3b67325360",
   "metadata": {},
   "outputs": [],
   "source": [
    "# Extract the 2nd row\n",
    "arr2[1:,]"
   ]
  },
  {
   "cell_type": "markdown",
   "id": "ad9221ff-30a9-4ae8-81b3-57a85425395f",
   "metadata": {},
   "source": [
    "Numpy is extremely vast and we could spend all day on it, however that's probably not the best use of our time.  You will mostly use a handful of Numpy's generation functions that we will get to, and also because it's the foundation for the topic coming up next: Pandas.  "
   ]
  },
  {
   "cell_type": "markdown",
   "id": "649c5570-0413-4842-8765-8129622b1a1d",
   "metadata": {},
   "source": [
    "### __Pandas__"
   ]
  },
  {
   "cell_type": "markdown",
   "id": "034e12a4-4f75-4d4c-a558-1f2e4698073b",
   "metadata": {},
   "source": [
    "Pandas will become a huge part of your Python programming life.  It will make things so much easier and enjoyable for you so definitely take your time to learn it.\n",
    "\n",
    "Pandas provides data structures and functions designed to make working with structured or tabular (think Excel rows and columns) data super easy!  Under the hood, pandas is leveraging Numpy array computing with flexible data manipulation capabilities of spreadsheets and relational databases.  It will allow us to easily reshape, slice and dice, perform aggregations, and apply functions (McKinney, 2022).  You'll be glad someone thought of it, trust me.\n",
    "\n",
    "The two main structures and functionality of the Pandas library are what we need to get to know next.\n",
    "\n",
    "- Series\n",
    "- DataFrame"
   ]
  },
  {
   "cell_type": "markdown",
   "id": "a046ffe1-fd8f-424e-b616-c9c87096193d",
   "metadata": {},
   "source": [
    "Let's dive it and see what's what."
   ]
  },
  {
   "cell_type": "code",
   "execution_count": null,
   "id": "6a7b5da3-e7cc-4346-b685-5637a3f32520",
   "metadata": {},
   "outputs": [],
   "source": [
    "# Import the library (pd by convention)\n",
    "import pandas as pd"
   ]
  },
  {
   "cell_type": "markdown",
   "id": "81ed1717-8064-47ec-8ed2-68f27d4f9d05",
   "metadata": {},
   "source": [
    "Check out a few of the methods and functions that come with the Pandas library."
   ]
  },
  {
   "cell_type": "code",
   "execution_count": null,
   "id": "203a4581-f6d4-4563-953a-4ea1ac06f694",
   "metadata": {},
   "outputs": [],
   "source": [
    "# Truncated output\n",
    "dir(pd)[:10]"
   ]
  },
  {
   "cell_type": "markdown",
   "id": "0aed90b6-1c2a-44b2-90a5-3ed84bfb309e",
   "metadata": {},
   "source": [
    "An important point to make here is that many of these are objects and constructors have methods and functions underneath them.  Check out the <a href=\"https://pandas.pydata.org/docs/reference/frame.html\">Pandas documentation</a> for more details.  To illustrate, let's look under the \"pd.DataFrame\" constructor shown under the `dir(pd)` call."
   ]
  },
  {
   "cell_type": "code",
   "execution_count": null,
   "id": "f673008d-f4d4-4a17-a68b-125784ce7a98",
   "metadata": {},
   "outputs": [],
   "source": [
    "# Truncated output to only the last 15 objects in the directory list\n",
    "dir(pd.DataFrame)[-15:]"
   ]
  },
  {
   "cell_type": "markdown",
   "id": "ac3758da-b072-482d-8605-3b7ceef1cca6",
   "metadata": {},
   "source": [
    "Now we know that when we have a DataFrame object, we have have many methods and functions we can use such as `pd.DataFrame().transform()`, or `pd.DataFrame().unstack()`, etc.  Let's walk before we crawl though by starting with Series."
   ]
  },
  {
   "cell_type": "markdown",
   "id": "4eb1515f-6ffc-4e97-b249-3d14f5f58d46",
   "metadata": {},
   "source": [
    "##### __Series__"
   ]
  },
  {
   "cell_type": "markdown",
   "id": "a50c8d62-ec73-4c6f-99c5-5f3cd6ffa5fa",
   "metadata": {},
   "source": [
    "A series is a 1-dimensional array, with an associated array of data labels called its \"index\".  Let's build one using the `pd.Series()` function."
   ]
  },
  {
   "cell_type": "code",
   "execution_count": null,
   "id": "1fdbd757-0490-40c0-be76-9fd3201d7f10",
   "metadata": {},
   "outputs": [],
   "source": [
    "srs1 = pd.Series([10,5,-3,6])\n",
    "srs1"
   ]
  },
  {
   "cell_type": "markdown",
   "id": "0846c68e-818f-4fcd-acbb-26864cdd3982",
   "metadata": {},
   "source": [
    "Notice the list of numbers on the left of our values?  That's the index.  We can access the values and index by dot notation like we're already familiar with."
   ]
  },
  {
   "cell_type": "code",
   "execution_count": null,
   "id": "171d639a-cde9-4742-b567-29acf98e60c5",
   "metadata": {},
   "outputs": [],
   "source": [
    "srs1.values"
   ]
  },
  {
   "cell_type": "code",
   "execution_count": null,
   "id": "5214a33f-d4c4-40b4-9da7-18db20ec4016",
   "metadata": {},
   "outputs": [],
   "source": [
    "srs1.index"
   ]
  },
  {
   "cell_type": "markdown",
   "id": "46b76803-2a86-4382-9a17-79beadbe1857",
   "metadata": {},
   "source": [
    "We can index and slice these in much the same way as your familiar with already.  For Series, we'll retrieve records by their index."
   ]
  },
  {
   "cell_type": "code",
   "execution_count": null,
   "id": "4eeae279-243d-44e9-b6b1-693a2dc450e0",
   "metadata": {},
   "outputs": [],
   "source": [
    "# Retrive the 3rd value from series 1\n",
    "srs1[2]"
   ]
  },
  {
   "cell_type": "markdown",
   "id": "d3d9fbb9-1699-4de1-887f-9f5b25a03be4",
   "metadata": {},
   "source": [
    "We could have also built our Series with a custom index if we had labels we wanted to apply instead of the range of numbers."
   ]
  },
  {
   "cell_type": "code",
   "execution_count": null,
   "id": "2be2ca82-b180-4483-8932-ce6a75978a54",
   "metadata": {},
   "outputs": [],
   "source": [
    "srs2 = pd.Series([2,3,4,5], index = ['blue','red','green','yellow'])\n",
    "srs2"
   ]
  },
  {
   "cell_type": "code",
   "execution_count": null,
   "id": "3b64058c-cb2f-477b-93a1-dcaf77910431",
   "metadata": {},
   "outputs": [],
   "source": [
    "# And then retrieve the 3rd value from series 2\n",
    "srs2['yellow']"
   ]
  },
  {
   "cell_type": "markdown",
   "id": "23409780-7b73-454a-b781-85fcd7901df3",
   "metadata": {},
   "source": [
    "##### __Dataframe__"
   ]
  },
  {
   "cell_type": "markdown",
   "id": "e876ad64-d1f1-4fed-9e9c-741d6cd71516",
   "metadata": {},
   "source": [
    "Let's move on to the much more exciting DataFrame.  DataFrames are rectangular tables of data that contain an ordered collection of homogenous, or heterogenous, columns.  This is problably the data format that most people are familiar with because it looks much like Excel with rows and columns.\n",
    "\n",
    "DataFrames have row _AND_ column indexes, and can be thought of as a Dictionary of Series, all sharing the same index.  Instead of just more words, let's just dive into some examples.  We'll start with the `pd.DataFrame()` constructor by passing it a dictionary."
   ]
  },
  {
   "cell_type": "code",
   "execution_count": null,
   "id": "bd9049e5-0aa6-46bb-8f94-26483e6c93a1",
   "metadata": {},
   "outputs": [],
   "source": [
    "# Manually create a DataFrame\n",
    "dat = pd.DataFrame({'student': ['Violet','Jade','Bill','Ben','Pat','Mateo'],\n",
    "                    'age': 16,\n",
    "                    'gender': ['F','F','M','M','M','M']                    \n",
    "                    }, index = ['a','b','c','d','e','f'])\n",
    "dat"
   ]
  },
  {
   "cell_type": "markdown",
   "id": "e6e4a442-74c5-471c-938e-bab2aff89bf4",
   "metadata": {},
   "source": [
    "BAM!  Easy enough.  Now you have your first dataframe!  Nicely done."
   ]
  },
  {
   "cell_type": "markdown",
   "id": "18baefaa-a032-41d0-8e54-c646df8dda90",
   "metadata": {},
   "source": [
    "##### __Indexing and Slicing__"
   ]
  },
  {
   "cell_type": "markdown",
   "id": "61350592-0983-49e2-aa70-b3af01352506",
   "metadata": {},
   "source": [
    "Want to access a column from your dataframe?  We can do that in a few different ways.  \n",
    "\n",
    "- Index operator\n",
    "- Attribute access (dot notation)\n",
    "- .loc & .iloc"
   ]
  },
  {
   "cell_type": "markdown",
   "id": "28da4a12-f736-4029-a00e-3eddc6bba7c5",
   "metadata": {},
   "source": [
    "_Index Operator:_ If you want the data returned as a DataFrame, then you need to pass the column names in a list like below."
   ]
  },
  {
   "cell_type": "code",
   "execution_count": null,
   "id": "c16f1e7c-7538-49a7-a06b-d3b3b4aef376",
   "metadata": {},
   "outputs": [],
   "source": [
    "# Extract \"student\" column as a dataframe\n",
    "dat[['student']]"
   ]
  },
  {
   "cell_type": "code",
   "execution_count": null,
   "id": "fad7cc9c-4d4a-4705-9387-c55fd65ab95b",
   "metadata": {},
   "outputs": [],
   "source": [
    "# Extract two columns by passing a list of column names\n",
    "dat[['student','gender']]"
   ]
  },
  {
   "cell_type": "markdown",
   "id": "c442d3dd-cfc5-4034-9281-196e0799fb36",
   "metadata": {},
   "source": [
    "If you just want one column returned as a Series, then you do not need to pass the column name as a list.  See below."
   ]
  },
  {
   "cell_type": "code",
   "execution_count": null,
   "id": "bc3ebc53-4b92-43c1-a869-1d35ddba9c9a",
   "metadata": {},
   "outputs": [],
   "source": [
    "# Return the values a Series with single brackets\n",
    "print(type(dat['student']))\n",
    "\n",
    "# Return the values as a DataFrame with double square brackets\n",
    "print(type(dat[['student']]))"
   ]
  },
  {
   "cell_type": "markdown",
   "id": "06b79be3-661c-486a-82bc-84349acccdc3",
   "metadata": {},
   "source": [
    "_Dot Notation:_  We could have just as easily pulled the \"student\" column by accessing the object attributes by using the `dat.` syntax."
   ]
  },
  {
   "cell_type": "code",
   "execution_count": null,
   "id": "40309cf5-62ed-4c62-9874-fb3148ddf10d",
   "metadata": {},
   "outputs": [],
   "source": [
    "# Attribute access (dot notation)\n",
    "dat.student"
   ]
  },
  {
   "cell_type": "markdown",
   "id": "01433d51-3ded-4b5a-84d5-531f8c977399",
   "metadata": {},
   "source": [
    "_.loc and .iloc:_  These are a little confusing at first, but with a little practice will make total sense.  \"loc\" stands for \"label based location\", and \"iloc\" stands for \"integer based location\".  Both refer to the arguments you can pass to make the retrieve data.  For example, if you want to pull row two by the index name, you would use \".iloc\".  If you want to retrieve a column by it's name, then you would use \"loc\" instead.\n",
    "\n",
    "See the table below for examples of how to use them."
   ]
  },
  {
   "cell_type": "markdown",
   "id": "97442a06-d3df-41e8-bcf4-0885d572df4e",
   "metadata": {},
   "source": [
    "| Type                                                                          | Comments                                                       |\n",
    "| :---                                                                          | :---                                                           |\n",
    "| dat[ 'col_name1' ]                                                            | Select a single column; Returns a Series                       |\n",
    "| dat[[ 'col_name1', 'col_name2' ]]                                             | Select multiple columns; Returns a DataFrame                   |     \n",
    "| dat.loc[ 'row_index_name1' ]                                                  | Select row by index LABEL; Returns a Series                    |  \n",
    "| dat.loc[[ 'row_index_name1' , 'row_index_name2' ]]                            | Select row(s) by LABEL; Returns a DataFrame                    |\n",
    "| dat.loc[ : , 'col_name1' ]                                                    | Select row(s) and/or column by LABEL; Returns a Series         |\n",
    "| dat.loc[ : , ['col_name1' , 'col_name2' ]]                                    | Select row(s) and/or column(s) by LABEL; Returns a DataFrame   |\n",
    "| dat.iloc[ index ]                                                             | Select row(s) by integer index position                        |\n",
    "| dat.iloc[ : , index ]                                                         | Select row(s) and/or column(s) by integer index position       |"
   ]
  },
  {
   "cell_type": "code",
   "execution_count": null,
   "id": "fed36035-49a2-4c10-8d26-3b2dec696bab",
   "metadata": {},
   "outputs": [],
   "source": [
    "# Extract index label \"c\"\n",
    "dat.loc['c']"
   ]
  },
  {
   "cell_type": "code",
   "execution_count": null,
   "id": "169df010-2b64-49ea-8859-d37093c33767",
   "metadata": {},
   "outputs": [],
   "source": [
    "# Extract index labels \"a\" & \"f\"\n",
    "dat.loc[['a','f']]"
   ]
  },
  {
   "cell_type": "code",
   "execution_count": null,
   "id": "4da974eb-e946-440c-a410-a3b3bbcd5955",
   "metadata": {},
   "outputs": [],
   "source": [
    "# Extract the \"student\" column by name\n",
    "dat.loc[:, 'student']"
   ]
  },
  {
   "cell_type": "code",
   "execution_count": null,
   "id": "0bde30d6-6011-476e-9e3f-9068cb95db5e",
   "metadata": {},
   "outputs": [],
   "source": [
    "# Extract the row index names \"b\" and \"d\", and the \"student\" and \"age\" columns by name\n",
    "dat.loc[['b','d'], ['student','age']]"
   ]
  },
  {
   "cell_type": "markdown",
   "id": "7da17c35-2cbf-404c-a886-5483f34581b8",
   "metadata": {},
   "source": [
    "Ok, that's enough indexing.  How about adding a new column?  "
   ]
  },
  {
   "cell_type": "markdown",
   "id": "57e91d33-2728-4caa-bdcc-61b247144148",
   "metadata": {},
   "source": [
    "##### __Adding a Column__\n",
    "That's pretty eash too.  We'll just use the `dat['column_name']` syntax with assignment for now."
   ]
  },
  {
   "cell_type": "code",
   "execution_count": null,
   "id": "21512957-a940-4fac-857a-24d9a0aeed07",
   "metadata": {},
   "outputs": [],
   "source": [
    "# Add new column named \"score\" in you dataframe\n",
    "dat['score'] = np.random.choice(range(90, 101), 6)\n",
    "dat"
   ]
  },
  {
   "cell_type": "code",
   "execution_count": null,
   "id": "a0f03cc9-7a35-421a-ac95-705fefc131a7",
   "metadata": {},
   "outputs": [],
   "source": [
    "# Create new column with no values\n",
    "dat['comment'] = ''\n",
    "\n",
    "# For any row with a score of 95 or higher, enter \"Well done\" in the new \"comment\" column\n",
    "dat.loc[dat['score'] >= 95, 'comment'] = 'Well done'\n",
    "dat"
   ]
  },
  {
   "cell_type": "markdown",
   "id": "d37fec60-d214-429f-8e4d-e08d5a71637f",
   "metadata": {},
   "source": [
    "##### _Deleting a Column_"
   ]
  },
  {
   "cell_type": "markdown",
   "id": "dcb8c773-0574-4749-b33a-0663508aa36b",
   "metadata": {},
   "source": [
    "There a couple of ways we can delete columns, \n",
    "\n",
    "- del method\n",
    "- pd.drop()"
   ]
  },
  {
   "cell_type": "markdown",
   "id": "568bbb18-5bfa-48e0-9e13-9b7b53795a7c",
   "metadata": {},
   "source": [
    "_del method:_  Just like it says.  We just call `del df['column_name']` and presto, it's gone."
   ]
  },
  {
   "cell_type": "code",
   "execution_count": null,
   "id": "a0785f85-4296-481d-bbde-3670421912a1",
   "metadata": {},
   "outputs": [],
   "source": [
    "# Delete the \"comment\" column\n",
    "del dat['comment']\n",
    "dat"
   ]
  },
  {
   "cell_type": "code",
   "execution_count": null,
   "id": "42979764-3467-414f-b24a-2ace79932ed3",
   "metadata": {},
   "outputs": [],
   "source": [
    "# Delete the \"age\" column using the \".drop()\" method - notice that we have to tell it which axis to use, 0 = rows, 1 = columns\n",
    "dat = dat.drop('age', axis = 1)\n",
    "dat"
   ]
  },
  {
   "cell_type": "markdown",
   "id": "86fe88fa-fa66-4853-be55-2f3cd9af1d25",
   "metadata": {},
   "source": [
    "##### __Masking & Filtering__"
   ]
  },
  {
   "cell_type": "markdown",
   "id": "4d3383ac-b4a0-4cd3-a380-3ac5779f439b",
   "metadata": {},
   "source": [
    "We will get much more into this in the next lesson, but for now see how we are going to start using our boolean logicals from previous lessons.  Here we can to see which scores are greater than some value, which returns a boolean True or False for each row.  Then we will pass that \"mask\" into our dataframe and filter to just the rows that evaluate to True."
   ]
  },
  {
   "cell_type": "code",
   "execution_count": null,
   "id": "c345a20f-9cff-4c81-8307-00a04104414d",
   "metadata": {},
   "outputs": [],
   "source": [
    "# Boolen mask\n",
    "msk = dat.score > 98\n",
    "msk"
   ]
  },
  {
   "cell_type": "code",
   "execution_count": null,
   "id": "6fcc4064-db06-4ae6-a122-d74c940b10f9",
   "metadata": {},
   "outputs": [],
   "source": [
    "# Filter by our mask\n",
    "dat[msk]"
   ]
  },
  {
   "cell_type": "markdown",
   "id": "a5e483a5-847b-4fe1-be41-50e9c4aba149",
   "metadata": {},
   "source": [
    "We could have also used the \"loc\" method because our mask is returing a Series by index name"
   ]
  },
  {
   "cell_type": "code",
   "execution_count": null,
   "id": "b140ad35-521a-4bd5-82ea-d02fe4f2d61b",
   "metadata": {},
   "outputs": [],
   "source": [
    "dat.loc[msk]"
   ]
  },
  {
   "cell_type": "markdown",
   "id": "c764eba5-8e67-4b15-8d21-c38ac38ecbda",
   "metadata": {},
   "source": [
    "And we could also just extract the Student names for anyone with a score over 98, like so."
   ]
  },
  {
   "cell_type": "code",
   "execution_count": null,
   "id": "d68af4ab-45a0-4288-ab87-9495468e17e5",
   "metadata": {},
   "outputs": [],
   "source": [
    "dat.loc[msk, 'student']"
   ]
  },
  {
   "cell_type": "markdown",
   "id": "6f44ff99-dacc-469e-85f8-9063fc3a492c",
   "metadata": {},
   "source": [
    "Whew!  Another long one I know.  And believe it or not, we're just barely scratching the surface with the minimum you can learn just to get going.  There's still so much more you could learn.\n",
    "\n",
    "We of course were not able to cover everything in these short few labs though, but you'll pick up new Pandas and Numpy functions and operations and you get more experience under your belt working through projects to come.  This was an excellent start.  "
   ]
  }
 ],
 "metadata": {
  "kernelspec": {
   "display_name": "Python 3 (ipykernel)",
   "language": "python",
   "name": "python3"
  },
  "language_info": {
   "codemirror_mode": {
    "name": "ipython",
    "version": 3
   },
   "file_extension": ".py",
   "mimetype": "text/x-python",
   "name": "python",
   "nbconvert_exporter": "python",
   "pygments_lexer": "ipython3",
   "version": "3.11.5"
  }
 },
 "nbformat": 4,
 "nbformat_minor": 5
}
