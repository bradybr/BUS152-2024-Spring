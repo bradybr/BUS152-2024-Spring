{
 "cells": [
  {
   "cell_type": "markdown",
   "id": "43b5a396-2b93-44d9-aae3-332d282efb30",
   "metadata": {},
   "source": [
    "# Lab 1.3<br>Python:  Working With Data Elements"
   ]
  },
  {
   "cell_type": "markdown",
   "id": "6b9d1cf2-f9e0-4b84-918c-1a5c25ebb15f",
   "metadata": {},
   "source": [
    "## BUS152 - Spring 2024 <br> Brian Brady"
   ]
  },
  {
   "cell_type": "markdown",
   "id": "2249866d-8013-429e-8f2c-7a373df5cc30",
   "metadata": {},
   "source": [
    "### __Objectives__"
   ]
  },
  {
   "cell_type": "markdown",
   "id": "5eee8c4e-1b94-4cdd-8af0-959c2da15638",
   "metadata": {},
   "source": [
    "In this lab, we begin working in more depth with the various data structure types.  At the end of this lesson you should be fairly comfortable with being able to peform the following actions:\n",
    "\n",
    " - Accessing (Indexing, Slicing, Key-Values)\n",
    " - Updating/Adding/Deleting\n",
    " \n",
    "We're mostly working with single values or continuous \"slices\" of data at this stage, but in practice you'll need to use slightly more complex methods that we'll get to later.  THese involve looping, iteration, and checking to see if specific conditions are satisfied, but more on this later."
   ]
  },
  {
   "cell_type": "markdown",
   "id": "b6d900f3-ab69-4ce9-9f7e-6a0e863ef7dc",
   "metadata": {},
   "source": [
    "### __Strings__"
   ]
  },
  {
   "cell_type": "markdown",
   "id": "a9d7ddc9-4389-4171-8b20-78d2cacede24",
   "metadata": {},
   "source": [
    "Beginnning with string structures, start with creating a variable named \"team\"."
   ]
  },
  {
   "cell_type": "code",
   "execution_count": null,
   "id": "d93671b3-dbbe-4988-9ac7-f749944661ae",
   "metadata": {
    "tags": []
   },
   "outputs": [],
   "source": [
    "team = \"STL Cardinals\""
   ]
  },
  {
   "cell_type": "markdown",
   "id": "00de7e8b-d8e1-4710-a676-42f366c12f19",
   "metadata": {
    "tags": []
   },
   "source": [
    "#### Accessing Elements"
   ]
  },
  {
   "cell_type": "markdown",
   "id": "821cd5f3-9270-480a-9c2a-005b3395f61a",
   "metadata": {},
   "source": [
    "Let's say we wanted to access the first _element_ of the text string?  In this case we want the captial \"S\".  \n",
    "\n",
    "To retrieve this element we would need to access the value by its positional _index_.  Which simply means its relative number position in the string.  So let's start with seeing how many positions we have in our team variable."
   ]
  },
  {
   "cell_type": "code",
   "execution_count": null,
   "id": "57be3155-2457-4e60-b663-bae6fa867770",
   "metadata": {
    "tags": []
   },
   "outputs": [],
   "source": [
    "len(team)"
   ]
  },
  {
   "cell_type": "markdown",
   "id": "600276a2-edfa-4b8e-87ac-fc7a1016baca",
   "metadata": {
    "tags": []
   },
   "source": [
    "Ok, now we know there are 13 characters in the string, including empty spaces.  Good to know.  Now we can use this information to retrieve the first element in the string, the \"S\".  The major idea to wrap your head around with indexing is that python is zero indexed, which means the first value always starts with 0.\n",
    "\n",
    "Give it a try.  First we write the variable name `team` followed by a 0 enclosed in square brackets `[0]`."
   ]
  },
  {
   "cell_type": "code",
   "execution_count": null,
   "id": "3d0433b6-0992-48d6-9c2b-aaa69247441e",
   "metadata": {
    "tags": []
   },
   "outputs": [],
   "source": [
    "team[0]"
   ]
  },
  {
   "cell_type": "markdown",
   "id": "a71b8495-2234-4efd-88bc-548cb0c46dbd",
   "metadata": {},
   "source": [
    "If you tried to pull the `[1]` indexed position, see what you get below."
   ]
  },
  {
   "cell_type": "code",
   "execution_count": null,
   "id": "ededaaab-7133-4e6e-8096-838983a33e3d",
   "metadata": {
    "tags": []
   },
   "outputs": [],
   "source": [
    "team[1]"
   ]
  },
  {
   "cell_type": "markdown",
   "id": "ea73ff3e-4ecc-467a-b884-df630aa1b569",
   "metadata": {},
   "source": [
    "As expected, you actually get the value from the 2nd position.\n",
    "\n",
    "Another consequence of python's zero indexing is that the last position is not actually 13, but 12.  You'll need to get used to subtracting 1 when you want a specific position."
   ]
  },
  {
   "cell_type": "code",
   "execution_count": null,
   "id": "a138ec93-afe5-4205-b1a3-12269ed75f86",
   "metadata": {
    "tags": []
   },
   "outputs": [],
   "source": [
    "len(team)"
   ]
  },
  {
   "cell_type": "code",
   "execution_count": null,
   "id": "f2d2daa3-374a-46eb-88d1-d8d3fd17b28c",
   "metadata": {
    "tags": []
   },
   "outputs": [],
   "source": [
    "team[13]"
   ]
  },
  {
   "cell_type": "markdown",
   "id": "b2617f53-b9b8-42dd-b765-15eb088a84e6",
   "metadata": {},
   "source": [
    "Luckily there's actually a better way to retrieve the last indexed positioned anyway.  Use the negative index."
   ]
  },
  {
   "cell_type": "code",
   "execution_count": null,
   "id": "01e5cad4-38d3-4ae7-a6d5-1682c43052a2",
   "metadata": {
    "tags": []
   },
   "outputs": [],
   "source": [
    "print(team)\n",
    "print(team[-1])"
   ]
  },
  {
   "cell_type": "markdown",
   "id": "f50d901c-26af-4d89-81b4-09d7b43182b4",
   "metadata": {},
   "source": [
    "Just one more fun way to show retrieving the last indexed position.  This one illustrates how you can use a function like `len()` in the square brackets.  Here the length function returns a 13, but we know python is zero indexed so we just need to subtract 1 to arrive at 12, which is the last position in the string."
   ]
  },
  {
   "cell_type": "code",
   "execution_count": null,
   "id": "efaf9b45-5e4a-4058-9c9a-e203128532ae",
   "metadata": {
    "tags": []
   },
   "outputs": [],
   "source": [
    "team[len(team)-1]"
   ]
  },
  {
   "cell_type": "markdown",
   "id": "9e3c2e06-3178-44e4-ba52-7cc3d3d98692",
   "metadata": {},
   "source": [
    "So that was _indexing_, and next we introduce the topic of _slicing_.  These are very similar, but now we're looking at a \"slice\" or range of the data by using the colon `:` syntax."
   ]
  },
  {
   "cell_type": "markdown",
   "id": "2a9ff772-bf93-488d-96bc-1e419a93cbb2",
   "metadata": {},
   "source": [
    "Let's ask for the first 5 positions with `[beginning index : ending index]` syntax:  `[0:5]`."
   ]
  },
  {
   "cell_type": "code",
   "execution_count": null,
   "id": "59f9e1c2-c3ff-47c6-9b2c-3a2d46e970ae",
   "metadata": {
    "tags": []
   },
   "outputs": [],
   "source": [
    "print(team)\n",
    "print(team[0:5])"
   ]
  },
  {
   "cell_type": "markdown",
   "id": "19ba7b37-a62a-4d0f-bc30-0c5959e86069",
   "metadata": {},
   "source": [
    "A few things to take note of here.\n",
    " - First, you're actually getting indexed positions 0-4, which is 5 numbers.  Slicing is beginning number _inclusive_ and ending number _exclusive_ so it looks like you're asking for indexes 0-5, but you're really only asking for the first 5 numbers in positions 0-4.  If you actually wanted the 5th position too, then you'd need to ask for `[0-6]`.\n",
    " - Lastly, notice how the blank empty space counts as one of the index positions."
   ]
  },
  {
   "cell_type": "markdown",
   "id": "01154953-5d89-48f4-892a-afdca8a90035",
   "metadata": {},
   "source": [
    "Slicing has a neat feature where you can leave the beginning or ending position blank, which tells python you want it to go all the way to the beginning or ending, depending on whether the blank is on the left or right side of the colon."
   ]
  },
  {
   "cell_type": "code",
   "execution_count": null,
   "id": "38101651-6648-4348-945e-c1ac74b5b389",
   "metadata": {
    "tags": []
   },
   "outputs": [],
   "source": [
    "print(team[:5])\n",
    "print(team[5:])"
   ]
  },
  {
   "cell_type": "markdown",
   "id": "7df9e35a-d166-49b8-9adf-81a49251f0f2",
   "metadata": {},
   "source": [
    "Now, let's look at pulling from the end of the string again.  This time we want the last 3 values.  Easy enough, just use a negative value and a blank value separated by a colon. "
   ]
  },
  {
   "cell_type": "code",
   "execution_count": null,
   "id": "9bcbf263-b722-47c7-8405-0680e05bde87",
   "metadata": {
    "tags": []
   },
   "outputs": [],
   "source": [
    "print(team)\n",
    "print(team[-3:])"
   ]
  },
  {
   "cell_type": "markdown",
   "id": "5eaf9339-65bc-4096-80a5-645f9f39e72e",
   "metadata": {},
   "source": [
    "Notice what we get if you include the -1 like we did before with indexing when trying to get the last 3 values."
   ]
  },
  {
   "cell_type": "code",
   "execution_count": null,
   "id": "9241b814-a095-44fa-95c5-05eaae704bf7",
   "metadata": {
    "tags": []
   },
   "outputs": [],
   "source": [
    "team[-3:-1]"
   ]
  },
  {
   "cell_type": "markdown",
   "id": "7567abc3-bba5-499e-83b2-0d07fafc0026",
   "metadata": {},
   "source": [
    "Oddly, with slicing we'd actually have to do what we couldn't do earlier with using the 13th index position if you didn't want to leave it blank."
   ]
  },
  {
   "cell_type": "code",
   "execution_count": null,
   "id": "69c5aabb-14d4-4be3-a7b6-a417757f3eea",
   "metadata": {
    "tags": []
   },
   "outputs": [],
   "source": [
    "team[-3:13]"
   ]
  },
  {
   "cell_type": "markdown",
   "id": "520a6a87-93ab-41dd-8444-abda625abe4f",
   "metadata": {},
   "source": [
    "Again, this is all a consequence of slicing being ending index _exclusive_."
   ]
  },
  {
   "cell_type": "markdown",
   "id": "a75e1242-036d-4158-95af-2c0beda5cf28",
   "metadata": {
    "tags": []
   },
   "source": [
    "#### Updating/Adding/Deleting"
   ]
  },
  {
   "cell_type": "markdown",
   "id": "9b85231b-1f17-475c-b7a8-720b724234d1",
   "metadata": {},
   "source": [
    "First up, try to replace the first position with a lowercase \"s\"."
   ]
  },
  {
   "cell_type": "code",
   "execution_count": null,
   "id": "d7098f8c-beab-43c4-a71b-e1b18d7d19d5",
   "metadata": {
    "tags": []
   },
   "outputs": [],
   "source": [
    "# Try to replace the first letter \"S\" with a lowercase \"s\"\n",
    "team[0] = \"s\""
   ]
  },
  {
   "cell_type": "markdown",
   "id": "824aff26-5efe-41ea-8b3c-c490cf05ffd3",
   "metadata": {},
   "source": [
    "Unfortunately strings are immutable so we'd have to get a little creative to change an element in place."
   ]
  },
  {
   "cell_type": "code",
   "execution_count": null,
   "id": "87b646f1-b2f4-4657-881c-01fd91e881c0",
   "metadata": {
    "tags": []
   },
   "outputs": [],
   "source": [
    "# First convert the string to a list, then assign a lowercase \"s\" to the first index position\n",
    "team = list(team)\n",
    "team[0] = \"s\"\n",
    "team"
   ]
  },
  {
   "cell_type": "markdown",
   "id": "4136c436-05a0-40eb-8851-d730eed9b0b9",
   "metadata": {
    "tags": []
   },
   "source": [
    "Now we need to concatenate the parsed string back togther with no spaces using the `''.join()` method."
   ]
  },
  {
   "cell_type": "code",
   "execution_count": null,
   "id": "db3b1f1a-3b5a-461e-8bef-f8d35aa03c9c",
   "metadata": {
    "tags": []
   },
   "outputs": [],
   "source": [
    "team = ''.join(team)\n",
    "team"
   ]
  },
  {
   "cell_type": "markdown",
   "id": "bd4b41d4-1857-44da-882d-197ab278976c",
   "metadata": {},
   "source": [
    "Probably would have been easier to just rebuild the variable from scratch.  `team = \"sTL. Louis Cardinals\"`, but that wasn't the point here was it.  We're learning!"
   ]
  },
  {
   "cell_type": "markdown",
   "id": "97eddd8b-6f74-40c4-bf03-9fd8bea70ea4",
   "metadata": {},
   "source": [
    "Don't forget about those dot method functions we've been talking about.  Remember to look there first when you want to perform an operation like replacing a value or word for another.\n",
    "\n",
    "Below you can see we have a `replace()` method if you want to find a word or letter and replace it with something new."
   ]
  },
  {
   "cell_type": "code",
   "execution_count": null,
   "id": "46297336-1687-4574-9af3-9522b983b857",
   "metadata": {
    "tags": []
   },
   "outputs": [],
   "source": [
    "team = team.replace(\"sTL\", \"St. Louis\")\n",
    "team"
   ]
  },
  {
   "cell_type": "markdown",
   "id": "6a17eb53-3e67-4894-9d81-2b8b5551f08f",
   "metadata": {},
   "source": [
    "### __Lists__"
   ]
  },
  {
   "cell_type": "markdown",
   "id": "3b291abd-406e-4d98-9eb8-315fee6e0716",
   "metadata": {},
   "source": [
    "Moving on to working with lists, let's build a simple list with some colors."
   ]
  },
  {
   "cell_type": "code",
   "execution_count": null,
   "id": "41e33443-c1ff-421d-8426-5583a1906c81",
   "metadata": {
    "tags": []
   },
   "outputs": [],
   "source": [
    "colors = [\"red\", \"blue\", \"green\", \"yellow\"]"
   ]
  },
  {
   "cell_type": "markdown",
   "id": "1d0aad64-b091-4eff-80ac-0d44932cd448",
   "metadata": {},
   "source": [
    "#### Accessing Elements"
   ]
  },
  {
   "cell_type": "markdown",
   "id": "a8c92082-2ead-4598-8d40-0ed6b9f0615f",
   "metadata": {},
   "source": [
    "Accessing elements exactly the same way as before with strings.  Except now with lists the index positions are full words and not just a letter."
   ]
  },
  {
   "cell_type": "code",
   "execution_count": null,
   "id": "b70462e0-9cdf-4164-b85e-2c5ce6c4e454",
   "metadata": {
    "tags": []
   },
   "outputs": [],
   "source": [
    "# First the 1st index position\n",
    "colors[0]"
   ]
  },
  {
   "cell_type": "code",
   "execution_count": null,
   "id": "2332e017-6aa8-4cf6-b2e1-399c20b0c888",
   "metadata": {
    "tags": []
   },
   "outputs": [],
   "source": [
    "# Find the index slice\n",
    "colors[2:4]"
   ]
  },
  {
   "cell_type": "code",
   "execution_count": null,
   "id": "3401180c-71b8-4476-af1d-789d397cade5",
   "metadata": {
    "tags": []
   },
   "outputs": [],
   "source": [
    "# Retrieve the last index position\n",
    "colors[-1]"
   ]
  },
  {
   "cell_type": "markdown",
   "id": "e37e276d-9d9b-4d13-8153-f8bb6e7b07bc",
   "metadata": {},
   "source": [
    "#### Updating/Adding/Deleting"
   ]
  },
  {
   "cell_type": "markdown",
   "id": "2d0cd83a-7fe2-4f2c-a0e0-2695270b1ecc",
   "metadata": {},
   "source": [
    "Assignment works with lists as it has in previous lessons.  If we want to update the 2nd position to the color \"brown\", simple enough."
   ]
  },
  {
   "cell_type": "code",
   "execution_count": null,
   "id": "a033cee5-c79c-47cf-950d-c068a0714a83",
   "metadata": {
    "tags": []
   },
   "outputs": [],
   "source": [
    "colors[1] = \"brown\"\n",
    "colors"
   ]
  },
  {
   "cell_type": "markdown",
   "id": "be745058-88e4-44b5-a163-b68a4ada7d3d",
   "metadata": {},
   "source": [
    "But be sure to notice we have _overwritten_ the previous \"blue\" value in the 2nd position!\n",
    "\n",
    "If you wanted to _insert_ a new color at a specific position, then use the `insert()` function."
   ]
  },
  {
   "cell_type": "code",
   "execution_count": null,
   "id": "a4acb9b4-f4b2-4f9b-bf61-6a55127f073d",
   "metadata": {
    "tags": []
   },
   "outputs": [],
   "source": [
    "# Insert \"blue\" in the 2nd index position, which moves all of the subsequent elements into the next index position\n",
    "colors.insert(1, \"blue\")\n",
    "colors"
   ]
  },
  {
   "cell_type": "markdown",
   "id": "bbd43b4b-6353-44ba-9e5a-9c31f4d3fec7",
   "metadata": {},
   "source": [
    "We have a few options if we wanted to add new values to a list.  Let's start with using one of the standard library methods, `append()`."
   ]
  },
  {
   "cell_type": "code",
   "execution_count": null,
   "id": "d8ae3a0a-2282-4712-b7c1-05530daa1ccf",
   "metadata": {
    "tags": []
   },
   "outputs": [],
   "source": [
    "# Append a new color to the end of the list\n",
    "colors.append(\"purple\")\n",
    "colors"
   ]
  },
  {
   "cell_type": "code",
   "execution_count": null,
   "id": "11d19060-f0f3-41db-88f0-f23f57a19c75",
   "metadata": {
    "tags": []
   },
   "outputs": [],
   "source": [
    "# Adding new colors by list concatenation with \"+\"\n",
    "new_colors = [\"black\", \"orange\"]\n",
    "new_colors = colors + new_colors\n",
    "new_colors"
   ]
  },
  {
   "cell_type": "markdown",
   "id": "4434db3f-e399-45fc-a54a-68b792b1dcd0",
   "metadata": {},
   "source": [
    "To remove or delete an element, again we have a multiple options.  Let's start with the `remove()` function."
   ]
  },
  {
   "cell_type": "code",
   "execution_count": null,
   "id": "3898f931-db3f-4c26-b617-5a23d3624d41",
   "metadata": {
    "tags": []
   },
   "outputs": [],
   "source": [
    "# Remove the color \"purple\" by name\n",
    "new_colors.remove(\"purple\")\n",
    "new_colors"
   ]
  },
  {
   "cell_type": "code",
   "execution_count": null,
   "id": "96d90967-19ac-417e-bb12-6275e6fea5e1",
   "metadata": {
    "tags": []
   },
   "outputs": [],
   "source": [
    "# Remove the 4th color using the \"del\" command\n",
    "del new_colors[3]\n",
    "new_colors"
   ]
  },
  {
   "cell_type": "code",
   "execution_count": null,
   "id": "2d7a248f-2082-4a11-80a6-3ec9ac376295",
   "metadata": {
    "tags": []
   },
   "outputs": [],
   "source": [
    "# Remove the last value from the 'new_colors' list by \"popping\" it off and saving it for use with the \"pop()\" function\n",
    "popped_value = new_colors.pop()\n",
    "popped_value"
   ]
  },
  {
   "cell_type": "code",
   "execution_count": null,
   "id": "b7479901-285a-4c2e-a9e7-44b6a2607568",
   "metadata": {
    "tags": []
   },
   "outputs": [],
   "source": [
    "new_colors"
   ]
  },
  {
   "cell_type": "markdown",
   "id": "5b15f095-6ae2-4c16-a92e-12d6ddec1d3f",
   "metadata": {},
   "source": [
    "### __Tuples__"
   ]
  },
  {
   "cell_type": "markdown",
   "id": "841bc217-2428-4c80-bd2e-397408d8f02c",
   "metadata": {},
   "source": [
    "Now tuples.  Build your \"tuple1\" below."
   ]
  },
  {
   "cell_type": "code",
   "execution_count": null,
   "id": "25153c26-ddb5-4c90-bd8d-ac861cd258be",
   "metadata": {
    "tags": []
   },
   "outputs": [],
   "source": [
    "tuple1 = (\"apple\", \"pear\", \"orange\")\n",
    "tuple1"
   ]
  },
  {
   "cell_type": "markdown",
   "id": "9f8940a3-2629-408e-87a1-481d9e898670",
   "metadata": {},
   "source": [
    "#### Accessing Elements"
   ]
  },
  {
   "cell_type": "markdown",
   "id": "716e73bc-e884-47d9-91ae-6f86e2f92bd3",
   "metadata": {},
   "source": [
    "Accessing elements in a tuple work the same as for a list.  We can use the positional indexes and slicing."
   ]
  },
  {
   "cell_type": "code",
   "execution_count": null,
   "id": "98ff4f09-c211-4ac2-9591-0b596ac0199b",
   "metadata": {
    "tags": []
   },
   "outputs": [],
   "source": [
    "tuple1[0]"
   ]
  },
  {
   "cell_type": "code",
   "execution_count": null,
   "id": "6459bea7-180e-43cc-afda-d39182e0b0fa",
   "metadata": {
    "tags": []
   },
   "outputs": [],
   "source": [
    "tuple1[-2]"
   ]
  },
  {
   "cell_type": "code",
   "execution_count": null,
   "id": "34d478c7-5a46-4f9f-9149-713e36ca9600",
   "metadata": {
    "tags": []
   },
   "outputs": [],
   "source": [
    "tuple1[:2]"
   ]
  },
  {
   "cell_type": "markdown",
   "id": "ba68a695-784e-4e96-8041-bfe478ed98d9",
   "metadata": {},
   "source": [
    "#### Updating/Adding/Deleting"
   ]
  },
  {
   "cell_type": "markdown",
   "id": "2e20996f-4d63-4ba4-b5ae-d88a8b9b5830",
   "metadata": {},
   "source": [
    "We've talked about making changes to immutable structures like tuples in a previous lesson, so we know that you must create new objects if you want to make any additions or deletions."
   ]
  },
  {
   "cell_type": "code",
   "execution_count": null,
   "id": "6a731b4c-ba9f-4ae4-83c9-6e5964527123",
   "metadata": {
    "tags": []
   },
   "outputs": [],
   "source": [
    "tuple2 = tuple1[:1] + (\"banana\",)\n",
    "tuple2"
   ]
  },
  {
   "cell_type": "markdown",
   "id": "559ba718-8566-4289-bbc7-6bca03dd238c",
   "metadata": {},
   "source": [
    "### __Dictionaries__"
   ]
  },
  {
   "cell_type": "markdown",
   "id": "9efc7641-1e15-47a0-90e8-d0482584f672",
   "metadata": {},
   "source": [
    "Lastly, working with dictionaries."
   ]
  },
  {
   "cell_type": "code",
   "execution_count": null,
   "id": "9126e66c-d459-4138-9ee1-cb9d46a69d8b",
   "metadata": {},
   "outputs": [],
   "source": [
    "dict1 = dict(name = \"alex\",\n",
    "             age = 16,\n",
    "             hair = \"brown\")\n",
    "dict1"
   ]
  },
  {
   "cell_type": "markdown",
   "id": "ab144130-b017-4f8b-9eaf-e66e4edbf8ef",
   "metadata": {
    "tags": []
   },
   "source": [
    "#### Accessing Elements"
   ]
  },
  {
   "cell_type": "markdown",
   "id": "2602059a-621e-45aa-ad83-be2df4f31914",
   "metadata": {},
   "source": [
    "Accessing from a dictionary works a little differently than we've seen, due to the differnet key-value pair syntax.\n",
    "\n",
    "A couple of terms to know here for a dictionary:  1) items, 2) keys, 3) values"
   ]
  },
  {
   "cell_type": "code",
   "execution_count": null,
   "id": "072ea07d-a608-4bde-a1f1-c8e052f3e61b",
   "metadata": {
    "tags": []
   },
   "outputs": [],
   "source": [
    "# Access the key-value pairs using \"items\"\n",
    "dict1.items()"
   ]
  },
  {
   "cell_type": "code",
   "execution_count": null,
   "id": "1f4bdfa5-a749-49d9-91d7-94f2df5da6b9",
   "metadata": {
    "tags": []
   },
   "outputs": [],
   "source": [
    "# Access just the keys\n",
    "dict1.keys()"
   ]
  },
  {
   "cell_type": "code",
   "execution_count": null,
   "id": "a1615fd5-24c5-406f-9cdb-dfe90a8c2c6f",
   "metadata": {
    "tags": []
   },
   "outputs": [],
   "source": [
    "# Access just the values\n",
    "dict1.values()"
   ]
  },
  {
   "cell_type": "markdown",
   "id": "a91d7728-783a-4798-ab2b-bece9059b936",
   "metadata": {},
   "source": [
    "And we've already seen how we can extract a value by explicitly calling for a key."
   ]
  },
  {
   "cell_type": "code",
   "execution_count": null,
   "id": "ecf1813e-a02a-48f4-9fd1-559026b44c77",
   "metadata": {
    "tags": []
   },
   "outputs": [],
   "source": [
    "dict1[\"age\"]"
   ]
  },
  {
   "cell_type": "markdown",
   "id": "07bfcd52-c122-4507-9841-3c5007c91fc0",
   "metadata": {},
   "source": [
    "#### Updating/Adding/Deleting"
   ]
  },
  {
   "cell_type": "markdown",
   "id": "c7aa0a58-4495-4bda-87c7-6b2dc36e04a9",
   "metadata": {},
   "source": [
    "Likewise we've already covered adding and updating variables, which works the same way."
   ]
  },
  {
   "cell_type": "code",
   "execution_count": null,
   "id": "878ef485-5181-4b3b-9ef8-832f690a5d3d",
   "metadata": {},
   "outputs": [],
   "source": [
    "# Add an \"eyes\" key with \"blue\" as the value\n",
    "dict1[\"eyes\"] = \"blue\"\n",
    "dict1"
   ]
  },
  {
   "cell_type": "markdown",
   "id": "9b541ad0-8c14-404d-b627-ee48832c9ee0",
   "metadata": {},
   "source": [
    "To remove a key or value from a dictionary, we can do the following."
   ]
  },
  {
   "cell_type": "code",
   "execution_count": null,
   "id": "e9cce9f5-377d-4428-b062-d170acdc9f8d",
   "metadata": {
    "tags": []
   },
   "outputs": [],
   "source": [
    "del dict1[\"eyes\"]\n",
    "dict1"
   ]
  }
 ],
 "metadata": {
  "kernelspec": {
   "display_name": "Python 3 (ipykernel)",
   "language": "python",
   "name": "python3"
  },
  "language_info": {
   "codemirror_mode": {
    "name": "ipython",
    "version": 3
   },
   "file_extension": ".py",
   "mimetype": "text/x-python",
   "name": "python",
   "nbconvert_exporter": "python",
   "pygments_lexer": "ipython3",
   "version": "3.11.5"
  }
 },
 "nbformat": 4,
 "nbformat_minor": 5
}
