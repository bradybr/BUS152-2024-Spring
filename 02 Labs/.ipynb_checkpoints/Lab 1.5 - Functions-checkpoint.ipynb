{
 "cells": [
  {
   "cell_type": "markdown",
   "id": "43b5a396-2b93-44d9-aae3-332d282efb30",
   "metadata": {},
   "source": [
    "# Lab 1.5<br>Python:  Functions"
   ]
  },
  {
   "cell_type": "markdown",
   "id": "6b9d1cf2-f9e0-4b84-918c-1a5c25ebb15f",
   "metadata": {},
   "source": [
    "## BUS152 - Spring 2024 <br> Brian Brady"
   ]
  },
  {
   "cell_type": "markdown",
   "id": "2249866d-8013-429e-8f2c-7a373df5cc30",
   "metadata": {},
   "source": [
    "### __Objectives__"
   ]
  },
  {
   "cell_type": "markdown",
   "id": "5eee8c4e-1b94-4cdd-8af0-959c2da15638",
   "metadata": {},
   "source": [
    "Functions are a power programming tool that you should familiarize yourself with.  Below are the topics we'll cover in this lesson and what you should try to take away.\n",
    "\n",
    " - Understand why we might want to use functions\n",
    " - Understand Python's built-in functions\n",
    " - Learn how to write our own custom functions\n",
    " - Gain expsoure to Lambda functions\n",
    " "
   ]
  },
  {
   "cell_type": "markdown",
   "id": "5dd35f1a-d8b3-480e-811e-f3a272a86d37",
   "metadata": {},
   "source": [
    "#### Why Functions?"
   ]
  },
  {
   "cell_type": "markdown",
   "id": "f4734f79-0c0a-4b9e-9882-a1aab94e382a",
   "metadata": {
    "tags": []
   },
   "source": [
    "One of the main pricinciples and best practices of programming is referred to as __DRY__ (Don't Repeat Yourself).  This makes reference to the idea that when you find yourself writting the same thing over and over, you should probably be writing that code as a function, and then calling the function by name when you need to use it.\n",
    "\n",
    "Functions allow for much more compact code, save you actual coding time, reduce the possibilities for typos and mistakes, and make it so you only have one location to manage the code instead of many.\n",
    "\n",
    "So many reasons to use them."
   ]
  },
  {
   "cell_type": "markdown",
   "id": "c21fe49a-9c93-4dd2-8233-86bea74087d5",
   "metadata": {},
   "source": [
    "#### Built-In Functions"
   ]
  },
  {
   "cell_type": "markdown",
   "id": "1a2abc7b-f2ef-4476-823a-3352f5e1be78",
   "metadata": {},
   "source": [
    "We've been working with python's built-in functions for a while now so it's probably time to talk a little more in depth about them.  Python's built-in functions are just like they sound - functions provided in the core installation of python, due to their uses being so common that we all shouldn't have to worry about coding them up individually."
   ]
  },
  {
   "cell_type": "markdown",
   "id": "00d4a280-7d6f-4993-a01a-8057341f1de9",
   "metadata": {
    "tags": []
   },
   "source": [
    "How about an easy example, the `sum()` function.  It's such a common task that python provides it for us."
   ]
  },
  {
   "cell_type": "code",
   "execution_count": null,
   "id": "4b65ff25-0d5f-454e-be0b-da93adea3e97",
   "metadata": {
    "tags": []
   },
   "outputs": [],
   "source": [
    "sum([2,2])"
   ]
  },
  {
   "cell_type": "markdown",
   "id": "326b5935-2e1d-4af5-b743-cacea5c175f8",
   "metadata": {},
   "source": [
    "Let's take a look under the hood by typing `sum?` to see some of the details."
   ]
  },
  {
   "cell_type": "code",
   "execution_count": null,
   "id": "824682d2-c258-44f9-a224-4100094e32fb",
   "metadata": {
    "tags": []
   },
   "outputs": [],
   "source": [
    "sum?"
   ]
  },
  {
   "cell_type": "markdown",
   "id": "5de09c2d-644f-443d-83a1-3e69faa00437",
   "metadata": {},
   "source": [
    "<br>Let's try writing our own simplified version of a `sum()` function."
   ]
  },
  {
   "cell_type": "code",
   "execution_count": null,
   "id": "2bfef05a-3679-4d2e-bbba-cf843ec3ddfc",
   "metadata": {
    "tags": []
   },
   "outputs": [],
   "source": [
    "# 2 number Addition function\n",
    "def my_sum_fun(x, y):\n",
    "    return(x + y)"
   ]
  },
  {
   "cell_type": "code",
   "execution_count": null,
   "id": "1fe1fde4-7072-427d-bf8c-f04544b59d26",
   "metadata": {
    "tags": []
   },
   "outputs": [],
   "source": [
    "my_sum_fun(2,2)"
   ]
  },
  {
   "cell_type": "markdown",
   "id": "dda3b44e-beb7-4c9a-bcf0-9ef947ee8068",
   "metadata": {},
   "source": [
    "This doesn't have all the bells and whistles that come with the built in function, but it definitely adds up two numbers if that's all we need.  It's missing the ability to handle more than two numbers (i.e. work with iterables like a list), no error handling, and no Docstring text explanation though so you should recognize that it's not as robust as the built-in `sum()` function."
   ]
  },
  {
   "cell_type": "markdown",
   "id": "862a8efa-a789-4e7d-97fb-22e58ba28a50",
   "metadata": {},
   "source": [
    "#### Custom Functions"
   ]
  },
  {
   "cell_type": "code",
   "execution_count": null,
   "id": "4af5c8e9-5a91-469d-883c-b1238944d738",
   "metadata": {
    "tags": []
   },
   "outputs": [],
   "source": [
    "# Assign x, y, z values\n",
    "x, y, z = [3, 2, 1]\n",
    "print(x)\n",
    "print(y)\n",
    "print(z)"
   ]
  },
  {
   "cell_type": "code",
   "execution_count": null,
   "id": "e81aa511-16ae-4545-b020-30f863f8b59e",
   "metadata": {
    "tags": []
   },
   "outputs": [],
   "source": [
    "# Evaluate a custom equation using our x,y,z variables\n",
    "((x + y - z) ** y) / (y + z)"
   ]
  },
  {
   "cell_type": "markdown",
   "id": "e3f89e44-c078-4991-b3b9-ce37b6b94839",
   "metadata": {},
   "source": [
    "Now let's imagine the values of x, y, and z change and we need to run our function again."
   ]
  },
  {
   "cell_type": "code",
   "execution_count": null,
   "id": "dfeae53c-376e-499c-9c00-fd42bc38c351",
   "metadata": {
    "tags": []
   },
   "outputs": [],
   "source": [
    "x, y, z = [6, 5, 4]"
   ]
  },
  {
   "cell_type": "markdown",
   "id": "2f8c551c-8cf1-4f77-93bd-9f4eb21d43c0",
   "metadata": {},
   "source": [
    "Now at this point, ask yourself if we should really have to write out our long equation `((x + y - z) ** y) / (y + z)` again hoping we don't make any mistakes?  It's easy enough to imagine we might make a simple error and transpose a number or leave something out all together, right?\n",
    "\n",
    "And imagine if we have the need to use this equation 20 times in 20 different locations in our 5,000 line program.  Seem tedious and hard to keep track of?  Especially if at some point you change the equation and then need to track down all 20 places you used it so you can make updates.\n",
    "\n",
    "Hopefully you're saying to yourself there has to be a better way.  Luckily enough there is.  And just as with the built-in ones, they're called _functions_."
   ]
  },
  {
   "cell_type": "markdown",
   "id": "1fbf743e-0252-43c2-a23d-42a3a06d6fe2",
   "metadata": {},
   "source": [
    "So instead of writing this equation over and over every time x, y, or z changes..."
   ]
  },
  {
   "cell_type": "code",
   "execution_count": null,
   "id": "49b0437b-c397-4898-bca2-999b623e54d9",
   "metadata": {
    "tags": []
   },
   "outputs": [],
   "source": [
    "x, y, z = [3, 2, 1]\n",
    "print(int(((x + y - z) ** y) / (y + z)))\n",
    "\n",
    "x, y, z = [6, 5, 4]\n",
    "print(int(((x + y - z) ** y) / (y + z)))\n",
    "\n",
    "x, y, z = [9, 8, 7]\n",
    "print(int(((x + y - z) ** y) / (y + z)))\n",
    "\n",
    "# and so on..."
   ]
  },
  {
   "cell_type": "markdown",
   "id": "f0529323-65eb-4c1e-a4cf-0492ced56e88",
   "metadata": {
    "tags": []
   },
   "source": [
    "Maybe we could try to write a _reusable_ function like this."
   ]
  },
  {
   "cell_type": "code",
   "execution_count": null,
   "id": "8668773f-b617-48f0-8849-7d1d7937488c",
   "metadata": {
    "tags": []
   },
   "outputs": [],
   "source": [
    "def my_equation(values):\n",
    "    x,y,z = values\n",
    "    return(int(((x + y - z) ** y) / (y + z)))"
   ]
  },
  {
   "cell_type": "markdown",
   "id": "b3de6a20-0604-42ba-94fb-164e4444a521",
   "metadata": {},
   "source": [
    "And then only have to call `my_equation()` with a list of the new values we want evaluated each time."
   ]
  },
  {
   "cell_type": "code",
   "execution_count": null,
   "id": "767db327-c4a3-46cb-b7cb-054c54169f21",
   "metadata": {
    "tags": []
   },
   "outputs": [],
   "source": [
    "print(my_equation([3,2,1]))\n",
    "print(my_equation([6,5,4]))\n",
    "print(my_equation([9,8,7]))"
   ]
  },
  {
   "cell_type": "markdown",
   "id": "ae9aa87e-7c4c-4560-9b00-27e6e2fd8b3b",
   "metadata": {},
   "source": [
    "Pretty neat, huh?  Less code and no chance for error in the formula (unless we wrote in incorrectly to begin with of course)."
   ]
  },
  {
   "cell_type": "markdown",
   "id": "711b55b1-cd5e-4876-8c63-f6ec465b6128",
   "metadata": {},
   "source": [
    "#### Syntax"
   ]
  },
  {
   "cell_type": "markdown",
   "id": "4f87ef0c-78a0-432d-9edc-3f4c7d2f5910",
   "metadata": {
    "tags": []
   },
   "source": [
    "The syntax is pretty straighforward when creating functions.  The only thing they require is the use of `def`, which stands for the fact that you're \"defining\" a function, with a custom name e.g. `my_func`, followed by parentheses and a colon `():`.\n",
    "\n",
    "All together like so -  `def my_fun():`.\n",
    "\n",
    "The other requirement is that the subsequent lines after defining your function _must_ be indented.  From there on however, the funtionality can be whatever you need it to be."
   ]
  },
  {
   "cell_type": "markdown",
   "id": "6823688f-5499-42b4-87c0-ec5814a30379",
   "metadata": {},
   "source": [
    "Functions can be open ended like the following:"
   ]
  },
  {
   "cell_type": "code",
   "execution_count": null,
   "id": "497bdb14-9614-4cfe-9ec7-743995d386f6",
   "metadata": {
    "tags": []
   },
   "outputs": [],
   "source": [
    "# No parameter arguments in this function\n",
    "def greeting():\n",
    "    print(\"Hello friend\")\n",
    "\n",
    "greeting()"
   ]
  },
  {
   "cell_type": "markdown",
   "id": "5a5daff2-4c3c-492c-8cef-daec0124c0d8",
   "metadata": {
    "tags": []
   },
   "source": [
    "Functions can also require the use of arguments, like so:"
   ]
  },
  {
   "cell_type": "code",
   "execution_count": null,
   "id": "4259e7dc-088c-44b2-a90f-2b769e5fee29",
   "metadata": {
    "tags": []
   },
   "outputs": [],
   "source": [
    "# This function requires a name as an input\n",
    "def greeting(name):\n",
    "    print(f\"Hello friend, {name}\")\n",
    "    \n",
    "greeting(\"Janelle\")"
   ]
  },
  {
   "cell_type": "markdown",
   "id": "0a580de5-811e-4fd6-8e09-7245c05b16fd",
   "metadata": {},
   "source": [
    "You can also define defaults in the arguments which render them as optional when calling the function.  The function will use the default, unless it's overwritten and called explicitly."
   ]
  },
  {
   "cell_type": "code",
   "execution_count": null,
   "id": "3e5378f7-2a70-46a3-b170-6f5eccd1f93f",
   "metadata": {
    "tags": []
   },
   "outputs": [],
   "source": [
    "# Functional with a default input to the name argument (name = \"Jan\")\n",
    "def greeting(name = \"Jan\"):\n",
    "    print(f\"Hello friend, {name}\")\n",
    "\n",
    "greeting()\n",
    "greeting(name = \"Marsha\")"
   ]
  },
  {
   "cell_type": "markdown",
   "id": "a0c3c976-481c-404d-8494-6ba29d3812c6",
   "metadata": {},
   "source": [
    "Functions are awesome, but can quickly build up to be very complicated.  It's generally considered best to build smaller functions that accomplish one thing at a time, and then chain your functions together if need be to accomplish many things.\n"
   ]
  },
  {
   "cell_type": "markdown",
   "id": "c72d5352-3cb3-4a9b-b2c6-d62b3fa5df1e",
   "metadata": {},
   "source": [
    "#### Lambda Functions"
   ]
  },
  {
   "cell_type": "markdown",
   "id": "9eafafb4-52d2-4a54-9b3e-6d32839c202a",
   "metadata": {},
   "source": [
    "Lambda functions are small functions that can be written in one-line of code, and referred to as anonymous (i.e. not defined)."
   ]
  },
  {
   "cell_type": "markdown",
   "id": "b818f921-1f98-4483-828e-5fec9647d54f",
   "metadata": {},
   "source": [
    "Remember our `my_sum_fun()` from the beginning of the lab?"
   ]
  },
  {
   "cell_type": "code",
   "execution_count": null,
   "id": "56fef21b-5956-4430-87ac-c22e8c49a34e",
   "metadata": {
    "tags": []
   },
   "outputs": [],
   "source": [
    "def my_sum_fun(x, y):\n",
    "    return(x + y)"
   ]
  },
  {
   "cell_type": "markdown",
   "id": "3a8318a5-b5fd-44af-8a19-c22741955a19",
   "metadata": {},
   "source": [
    "Let's take a look at how we could done this in a one-liner as a Lambda function.\n",
    "\n",
    "The syntax is `lambda` follwed by the declared variable arguments required, here it's `x` and `y` followed by a colon `:`, then your function `x + y`.  "
   ]
  },
  {
   "cell_type": "code",
   "execution_count": null,
   "id": "12b8bb6a-031a-4e40-8859-018edbebb457",
   "metadata": {
    "tags": []
   },
   "outputs": [],
   "source": [
    "l_fun = lambda x, y: x + y\n",
    "l_fun(2,2)"
   ]
  },
  {
   "cell_type": "markdown",
   "id": "0395dc5a-af89-4312-84c3-e8982fc37744",
   "metadata": {},
   "source": [
    "In this simple example it may not seem like a huge time saver, but these really can be helpful when you just need to quickly write a one-liner of code without all of the extra structure that comes with defining functions.  We'll see examples of using these later."
   ]
  }
 ],
 "metadata": {
  "kernelspec": {
   "display_name": "Python 3 (ipykernel)",
   "language": "python",
   "name": "python3"
  },
  "language_info": {
   "codemirror_mode": {
    "name": "ipython",
    "version": 3
   },
   "file_extension": ".py",
   "mimetype": "text/x-python",
   "name": "python",
   "nbconvert_exporter": "python",
   "pygments_lexer": "ipython3",
   "version": "3.11.5"
  }
 },
 "nbformat": 4,
 "nbformat_minor": 5
}
