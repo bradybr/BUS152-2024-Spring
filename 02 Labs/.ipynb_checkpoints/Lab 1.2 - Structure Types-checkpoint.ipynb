{
 "cells": [
  {
   "cell_type": "markdown",
   "id": "43b5a396-2b93-44d9-aae3-332d282efb30",
   "metadata": {},
   "source": [
    "# Lab 1.2<br>Python:  Structure Types"
   ]
  },
  {
   "cell_type": "markdown",
   "id": "6b9d1cf2-f9e0-4b84-918c-1a5c25ebb15f",
   "metadata": {},
   "source": [
    "## BUS152 - Spring 2024 <br> Brian Brady"
   ]
  },
  {
   "cell_type": "markdown",
   "id": "8b581110-159b-497d-b119-fd1f9807dde7",
   "metadata": {},
   "source": [
    "### __Objectives__"
   ]
  },
  {
   "cell_type": "markdown",
   "id": "5eee8c4e-1b94-4cdd-8af0-959c2da15638",
   "metadata": {},
   "source": [
    "For this lab we want to begin getting comfortable with the different types of data container structures you'll be dealing with.  \n",
    " - Lists\n",
    " - Tuples\n",
    " - Dictionaries\n",
    " - Sets\n",
    " \n",
    "As you progress, you should start to begin to understand and see why you might want to use one vs. another.  In this lesson we'll focus mostly on building the types, the various syntaxes, and _when_ and _why_ you should use them.  We'll begin working with them in more detail and accessing elements in these structures in subsequent lessons."
   ]
  },
  {
   "cell_type": "markdown",
   "id": "d6a0f5df-e089-474a-b0a3-413a80c3e670",
   "metadata": {},
   "source": [
    "### __Lists__"
   ]
  },
  {
   "cell_type": "markdown",
   "id": "b3d8a10e-6191-458b-85a5-cb46a87e341b",
   "metadata": {},
   "source": [
    "First up are Lists.  The workhorse of python.  You will use these often."
   ]
  },
  {
   "cell_type": "markdown",
   "id": "d28c7351-0e47-42ca-95c0-1924f62af45a",
   "metadata": {
    "tags": []
   },
   "source": [
    "Lists are a collection of _elements_ surrounded by the square brackets `[]`.  What makes them more or less unique from other programming languages is that they can contain mixed data types.  Extremely useful as you'll come to see."
   ]
  },
  {
   "cell_type": "code",
   "execution_count": null,
   "id": "c5bc3c5b-5016-46fc-82ad-5c704a96ea34",
   "metadata": {
    "tags": []
   },
   "outputs": [],
   "source": [
    "my_list = [\"this\", \"that\", 123, \"other\"]\n",
    "my_list"
   ]
  },
  {
   "cell_type": "markdown",
   "id": "221666f5-77fd-4333-a747-7032b7df3091",
   "metadata": {
    "tags": []
   },
   "source": [
    "They can store pretty much anything you want.  Character text, numbers, dates, even other lists (called nesting)."
   ]
  },
  {
   "cell_type": "code",
   "execution_count": null,
   "id": "f1a138a4-cf33-4b11-a979-0bfd825db5a7",
   "metadata": {
    "tags": []
   },
   "outputs": [],
   "source": [
    "new_list = [\"mickey\", \"phil\", [\"keith\", \"donna\"], \"bob\", \"bill\", \"jerry\"]\n",
    "new_list"
   ]
  },
  {
   "cell_type": "markdown",
   "id": "629663f5-3f66-465d-aa67-8ec5fa762d0a",
   "metadata": {},
   "source": [
    "And remember the concept of \"casting\" from the previous lesson?  The same can apply to structures.  We'll cover how the `range()` function works later, but for now see how we can convert the \"range\" object below to a list of numbers using `list()`."
   ]
  },
  {
   "cell_type": "code",
   "execution_count": null,
   "id": "1809f81a-4796-48aa-92d0-a7f5cbab0dc6",
   "metadata": {
    "tags": []
   },
   "outputs": [],
   "source": [
    "print(range(0, 11))\n",
    "print(type(range(0, 11)))"
   ]
  },
  {
   "cell_type": "code",
   "execution_count": null,
   "id": "57098474-be8a-4868-9847-7ddaa8b95c51",
   "metadata": {
    "tags": []
   },
   "outputs": [],
   "source": [
    "print(list(range(0, 11)))\n",
    "print(type(list(range(0, 11))))"
   ]
  },
  {
   "cell_type": "markdown",
   "id": "5a542133-5a19-4145-97e9-6dc7ebef1eaa",
   "metadata": {},
   "source": [
    "Lists will become super important when we start working with real-world data and begin looping through lists and performing operations at an elemental level."
   ]
  },
  {
   "cell_type": "markdown",
   "id": "30033884-8254-4a76-9a22-4bea95828f6b",
   "metadata": {},
   "source": [
    "### __Tuples__"
   ]
  },
  {
   "cell_type": "markdown",
   "id": "ea9501d5-d6b7-4a34-b604-6bc7253ab775",
   "metadata": {},
   "source": [
    "Tuples are an interesting structure.  Tuples have a unqiue property compared to the other structure types:  Immutability.  This means they cannot be changed in place.  You'll have to create a new copy or overwrite the object to make a change to a tuple. \n",
    "\n",
    "Let's see this in action.  Tuples are created using standard parentheses `()`."
   ]
  },
  {
   "cell_type": "code",
   "execution_count": null,
   "id": "30d64aa6-347a-42cc-b3ad-0bc3cd74a089",
   "metadata": {
    "tags": []
   },
   "outputs": [],
   "source": [
    "tuple1 = (\"apple\", \"pear\", \"orange\")\n",
    "tuple1"
   ]
  },
  {
   "cell_type": "markdown",
   "id": "f2ed590f-4342-4f4e-b8ea-ed33d502fdb1",
   "metadata": {},
   "source": [
    "Now, what if we want to add another fruit to our tuple?  Remember those object _methods_ from the previous lesson?  Let's try using the `append()` function to add a \"banana\"."
   ]
  },
  {
   "cell_type": "code",
   "execution_count": null,
   "id": "471e9937-edde-44a4-8b82-f6666c53826f",
   "metadata": {
    "tags": []
   },
   "outputs": [],
   "source": [
    "tuple1.append(\"banana\")"
   ]
  },
  {
   "cell_type": "markdown",
   "id": "09309289-787e-42d9-ab62-57bd59425f4d",
   "metadata": {},
   "source": [
    "Error!?!?!  I'm sure you're shocked.  It failed, again because tuples are _immutable_ and have no attribute to append!"
   ]
  },
  {
   "cell_type": "markdown",
   "id": "6d99cbc8-b49e-480e-84e1-70dd233fb221",
   "metadata": {},
   "source": [
    "Note this would have worked with our list structure though, but not so for the restrictive tuple."
   ]
  },
  {
   "cell_type": "code",
   "execution_count": null,
   "id": "396eaef8-d52c-4798-9ea4-167b5dfeb380",
   "metadata": {
    "tags": []
   },
   "outputs": [],
   "source": [
    "my_list"
   ]
  },
  {
   "cell_type": "code",
   "execution_count": null,
   "id": "2b2d8add-6792-484b-9621-a5ee367e49de",
   "metadata": {
    "tags": []
   },
   "outputs": [],
   "source": [
    "my_list.append(\"banana\")\n",
    "my_list"
   ]
  },
  {
   "cell_type": "markdown",
   "id": "5b5c83b8-f5ca-4452-bc07-cb4f069ad1b3",
   "metadata": {},
   "source": [
    "The only way to get \"banana\" in our tuple is to create a new copy of the object.  Let's try it."
   ]
  },
  {
   "cell_type": "code",
   "execution_count": null,
   "id": "fcefdec0-5f97-4bc9-b099-44827c2e6568",
   "metadata": {
    "tags": []
   },
   "outputs": [],
   "source": [
    "tuple1 + (\"banana\",)"
   ]
  },
  {
   "cell_type": "markdown",
   "id": "be65f294-658d-46d3-9ab2-f83dd28f8845",
   "metadata": {},
   "source": [
    "At this point you might be asking \"Why would I ever care about immutability and need to keep a list uneditable?\"  Good question.  \n",
    "\n",
    "An example might be something that _never_ changes and you want to make sure it stays that way so there's no chance of a bug creeping into your program.  Days of the week would be a good example."
   ]
  },
  {
   "cell_type": "code",
   "execution_count": null,
   "id": "74584031-5971-4884-b939-e36d4e872a83",
   "metadata": {
    "tags": []
   },
   "outputs": [],
   "source": [
    "wk_days = (\"Mon\", \"Tue\", \"Wed\", \"Thu\", \"Fri\")\n",
    "wk_days"
   ]
  },
  {
   "cell_type": "code",
   "execution_count": null,
   "id": "15b77c5c-ae29-4948-9349-ecd577f2cf5a",
   "metadata": {
    "tags": []
   },
   "outputs": [],
   "source": [
    "wk_days.append(\"Sat\", \"Sun\")"
   ]
  },
  {
   "cell_type": "markdown",
   "id": "fc778b29-8598-4102-a16f-e34700f27e93",
   "metadata": {},
   "source": [
    "Ahhh... the relative safety of using a tuple.  I love weekends too, but trust me, it feels good we kept it out of our tuple here."
   ]
  },
  {
   "cell_type": "markdown",
   "id": "1307e21b-7c89-4af1-8a08-3cc78ef1c6e3",
   "metadata": {},
   "source": [
    "### __Dictionaries__"
   ]
  },
  {
   "cell_type": "markdown",
   "id": "7e4122fa-de84-4e4e-a1c0-7e6170f19f8e",
   "metadata": {},
   "source": [
    "Next up are Dictionaries.  These are unordered collections of _key_ and _value_ pairs.  Disctionaries are created with curly brackets `{}` instead of square brackets or parentheses."
   ]
  },
  {
   "cell_type": "markdown",
   "id": "2a98ecd6-802b-4d48-83b7-9123cb13dc35",
   "metadata": {},
   "source": [
    "Dictionaries are similar to lists, in that they can be changed and update in place.  The main difference is that lists are independent single values which are accessed by their indexed position in the list; whereas dictionaries hold key-value pairs, and elements are accessed via their keys.\n",
    "\n",
    "Let's see how we'd create a dictionary with the table details below."
   ]
  },
  {
   "cell_type": "markdown",
   "id": "93f8346a-49ae-4252-a959-537072df3152",
   "metadata": {},
   "source": [
    "| Key            | Value  |\n",
    "| :---           | :---:  |\n",
    "| first_name     | stacy  |\n",
    "| last_name      | smith  |\n",
    "| age            | 17     |\n",
    "| hobby          | reading|"
   ]
  },
  {
   "cell_type": "code",
   "execution_count": null,
   "id": "8c0223be-7510-499c-b918-4a782e07593f",
   "metadata": {
    "tags": []
   },
   "outputs": [],
   "source": [
    "# Manually create your first dictionary\n",
    "student_details = {\n",
    "    \"first_name\": \"stacy\",\n",
    "    \"last_name\": \"smith\",\n",
    "    \"age\": 17,\n",
    "    \"hobby\": \"reading\"\n",
    "}\n",
    "student_details"
   ]
  },
  {
   "cell_type": "markdown",
   "id": "b2f7a07e-0fd0-4c86-ba5e-21082990323d",
   "metadata": {},
   "source": [
    "Now if we wanted to retrieve the value stored in relation to the \"age\" key, all we have to do is the following:"
   ]
  },
  {
   "cell_type": "code",
   "execution_count": null,
   "id": "87adcd26-1017-44e0-b2de-9e8086c12e71",
   "metadata": {
    "tags": []
   },
   "outputs": [],
   "source": [
    "student_details[\"age\"]"
   ]
  },
  {
   "cell_type": "markdown",
   "id": "30c5e853-68af-4456-bbc6-53281db1004e",
   "metadata": {},
   "source": [
    "We can make updates using _assignment_ the same as we've done before.  Let's say we realize we've made a mistake and Stacy is actually 16 years old.  Let's make the change."
   ]
  },
  {
   "cell_type": "code",
   "execution_count": null,
   "id": "7f9fade9-60a9-4a26-93e1-c17162e1dd02",
   "metadata": {
    "tags": []
   },
   "outputs": [],
   "source": [
    "student_details[\"age\"] = 16\n",
    "student_details[\"age\"]"
   ]
  },
  {
   "cell_type": "markdown",
   "id": "c0d05ec4-ed0a-4607-b3ea-0c7da530ce06",
   "metadata": {},
   "source": [
    "So that was an example of building a dictionary manually and changing a value, but you can also build them from scratch using the _assignment_ method above too.  Give this a try."
   ]
  },
  {
   "cell_type": "code",
   "execution_count": null,
   "id": "e6a3a071-45a4-47ae-b608-f979f6ce13d7",
   "metadata": {
    "tags": []
   },
   "outputs": [],
   "source": [
    "# Set up an empty dictionary\n",
    "student_details = {}"
   ]
  },
  {
   "cell_type": "code",
   "execution_count": null,
   "id": "90d17b20-1235-4b9b-8911-89f6ae0a1dbb",
   "metadata": {
    "tags": []
   },
   "outputs": [],
   "source": [
    "# Create individual lists with each key-value pair\n",
    "student_details[\"first_name\"] = \"stacy\"\n",
    "student_details[\"last_name\"] = \"smith\"\n",
    "student_details[\"age\"] = 16\n",
    "student_details[\"hobby\"] = \"reading\""
   ]
  },
  {
   "cell_type": "code",
   "execution_count": null,
   "id": "7352cab4-2f2e-4950-9ad5-e25f171fa830",
   "metadata": {
    "tags": []
   },
   "outputs": [],
   "source": [
    "student_details"
   ]
  },
  {
   "cell_type": "markdown",
   "id": "732d7ff1-885e-41ee-8e69-dfaae7922d2e",
   "metadata": {},
   "source": [
    "One more way you could build them... which in my opion is probalby the simplest and least verbose."
   ]
  },
  {
   "cell_type": "code",
   "execution_count": null,
   "id": "643b0926-14f5-4f7c-9b05-ffcdb3414d03",
   "metadata": {
    "tags": []
   },
   "outputs": [],
   "source": [
    "student_details = dict(first_name = \"stacy\",\n",
    "                       last_name = \"smith\",\n",
    "                       age = 16,\n",
    "                       hobby = \"reading\")\n",
    "\n",
    "student_details"
   ]
  },
  {
   "cell_type": "markdown",
   "id": "6d99b1b1-344a-4dbf-9ec2-a346061ac2b3",
   "metadata": {},
   "source": [
    "Notice the use of `dict` with `()` instead of the curly brackets `{}`.  This is because `dict()` is a function, and functions us regular parentheses `()`.  Building a dictionary from scratch requires the special curly bracket `{}` indication, but not so if you explicitly use the `dict()` function."
   ]
  },
  {
   "cell_type": "markdown",
   "id": "0a3f5d98-f603-4d9e-a89c-f8f0c7543e9a",
   "metadata": {
    "tags": []
   },
   "source": [
    "### __Sets__"
   ]
  },
  {
   "cell_type": "markdown",
   "id": "a3a027bd-04bd-4310-9e53-53c2a2098687",
   "metadata": {},
   "source": [
    "Sets are another structure type we can use that borrow from Set Theory mathematics.  These are unordered collections of _unique_ and immutable objects.  Beyond simple uses for finding the unique values of a collection, we can also apply the mathematical theory and find unions, intersections, subsets, etc.\n",
    "\n",
    "Let's start with building a set using the curly brackets `{}`."
   ]
  },
  {
   "cell_type": "code",
   "execution_count": null,
   "id": "d25b122e-ba77-42dc-b518-427f7d699dde",
   "metadata": {
    "tags": []
   },
   "outputs": [],
   "source": [
    "nums_set1 = {1,1,2,2,3,3}\n",
    "print(nums_set1)\n",
    "print(type(nums_set1))"
   ]
  },
  {
   "cell_type": "markdown",
   "id": "c0ea77c4-c8a2-453c-a94a-b3099c0b86e0",
   "metadata": {},
   "source": [
    "We could also build them directly from a list."
   ]
  },
  {
   "cell_type": "code",
   "execution_count": null,
   "id": "53604eb3-8c85-4f37-8e22-ffc648d4da47",
   "metadata": {
    "tags": []
   },
   "outputs": [],
   "source": [
    "# Create a list with duplicate numbers\n",
    "nums_ls = [1,1,3,3,5,5,7,7]\n",
    "print(nums_ls)"
   ]
  },
  {
   "cell_type": "code",
   "execution_count": null,
   "id": "e91129f7-7714-4c72-8e8c-d11418879f74",
   "metadata": {
    "tags": []
   },
   "outputs": [],
   "source": [
    "# Create a second set from the list\n",
    "nums_set2 = set(nums_ls)\n",
    "print(nums_set2)"
   ]
  },
  {
   "cell_type": "markdown",
   "id": "3167213b-ed91-4a74-b418-27712813e00c",
   "metadata": {},
   "source": [
    "Remember, we can see what methods come with sets by placing a period behind the variable name and hitting _tab_.  Try it below and find \"intersection\" and add \"nums_set1\" as the argument to see if the two sets intersect."
   ]
  },
  {
   "cell_type": "code",
   "execution_count": null,
   "id": "435dc951-1c2b-4dec-beda-3d56ae87e1b3",
   "metadata": {
    "tags": []
   },
   "outputs": [],
   "source": [
    "nums_set2.intersection(nums_set1)"
   ]
  },
  {
   "cell_type": "markdown",
   "id": "d65cfc30-4966-4805-b071-2cfa9439cfa5",
   "metadata": {
    "tags": []
   },
   "source": [
    "We could have also done it this way.  So many options."
   ]
  },
  {
   "cell_type": "code",
   "execution_count": null,
   "id": "3f596aa4-c4e0-44fe-9487-b5b88a5b974d",
   "metadata": {
    "tags": []
   },
   "outputs": [],
   "source": [
    "nums_set1 & nums_set2"
   ]
  }
 ],
 "metadata": {
  "kernelspec": {
   "display_name": "Python 3 (ipykernel)",
   "language": "python",
   "name": "python3"
  },
  "language_info": {
   "codemirror_mode": {
    "name": "ipython",
    "version": 3
   },
   "file_extension": ".py",
   "mimetype": "text/x-python",
   "name": "python",
   "nbconvert_exporter": "python",
   "pygments_lexer": "ipython3",
   "version": "3.11.5"
  }
 },
 "nbformat": 4,
 "nbformat_minor": 5
}
