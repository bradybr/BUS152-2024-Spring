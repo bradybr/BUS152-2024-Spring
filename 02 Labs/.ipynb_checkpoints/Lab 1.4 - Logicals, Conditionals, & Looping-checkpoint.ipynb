{
 "cells": [
  {
   "cell_type": "markdown",
   "id": "43b5a396-2b93-44d9-aae3-332d282efb30",
   "metadata": {},
   "source": [
    "# Lab 1.4<br>Python:  Logicals, Conditionals, & Looping"
   ]
  },
  {
   "cell_type": "markdown",
   "id": "6b9d1cf2-f9e0-4b84-918c-1a5c25ebb15f",
   "metadata": {},
   "source": [
    "## BUS152 - Spring 2024 <br> Brian Brady"
   ]
  },
  {
   "cell_type": "markdown",
   "id": "2249866d-8013-429e-8f2c-7a373df5cc30",
   "metadata": {},
   "source": [
    "### __Objectives__"
   ]
  },
  {
   "cell_type": "markdown",
   "id": "5eee8c4e-1b94-4cdd-8af0-959c2da15638",
   "metadata": {},
   "source": [
    " - Logical Comparisons\n",
    " - if, if-else, & if-elif-else\n",
    " - for loops\n",
    " - while loops"
   ]
  },
  {
   "cell_type": "markdown",
   "id": "fabd6ef9-8c61-4d13-a887-19ef3f24a68a",
   "metadata": {},
   "source": [
    "### __Logical Comparisons__"
   ]
  },
  {
   "cell_type": "markdown",
   "id": "95360b96-ed12-482b-8a9d-12111e49e9f0",
   "metadata": {},
   "source": [
    "We've already dabbled in logical comparisons a bit when we learned about booleans, but let's make sure we sufficiently covered them.\n",
    "\n",
    "Below is a table of the logical operators and symbols you should begin to get comfortable with.  Python is known to be a beginner friendly language because a lot of the commands are human interpretable as we can see here."
   ]
  },
  {
   "cell_type": "markdown",
   "id": "6093312c-b5a0-421c-9235-48cd6ab4ea84",
   "metadata": {},
   "source": [
    "| Operation        | Symbol |\n",
    "| :---             | :---:  |\n",
    "| Greater Than     | >      |\n",
    "| Less Than        | <      |\n",
    "| Greater Than or Equal To | >=  |\n",
    "| Less Than or Equal To | <= |\n",
    "| Equals           | ==      |\n",
    "| Does Not Equal   | !=      |\n",
    "| Contains         | in      |\n",
    "| Does Not Contain | not in  |\n",
    "| And              | and / & |\n",
    "| Or               | or / \\| |"
   ]
  },
  {
   "cell_type": "code",
   "execution_count": null,
   "id": "c07e470f-0aa1-431d-8e22-af98c8bc4211",
   "metadata": {
    "tags": []
   },
   "outputs": [],
   "source": [
    "# Create a brand variable\n",
    "brand = \"Nike\""
   ]
  },
  {
   "cell_type": "code",
   "execution_count": null,
   "id": "73a21dca-0dc7-4d6c-9e01-38c91877aed2",
   "metadata": {
    "tags": []
   },
   "outputs": [],
   "source": [
    "# Check to see if the brand equals a specific name brand using double quotes \"==\"\n",
    "brand == \"Nike\""
   ]
  },
  {
   "cell_type": "code",
   "execution_count": null,
   "id": "a504a865-0600-45cb-9a85-5ea490abb341",
   "metadata": {
    "tags": []
   },
   "outputs": [],
   "source": [
    "# Is it case sensitive?\n",
    "brand == \"nike\""
   ]
  },
  {
   "cell_type": "markdown",
   "id": "3deab94f-90b2-4830-b403-e357075c821f",
   "metadata": {},
   "source": [
    "As you can see, logical comparisons are case and data type specific (i.e. a float will not equal an integer of the same number).  And since we cannot control user inputs and the formatting of data we'll be recieving, it's a best practice to get in the habit of always doing a little pre-processing to your text to make them as comparable as possible.  \n",
    "\n",
    "For example, it's a good idea to always try to compare text in lowercase.  We'll get into dealing with punctuation and special characters later, but for this simple example you can see how this would eliminate lots of possibilities for them to not equal each other when they really do."
   ]
  },
  {
   "cell_type": "code",
   "execution_count": null,
   "id": "7461473a-a095-4943-9abf-fb95b49e08f6",
   "metadata": {
    "tags": []
   },
   "outputs": [],
   "source": [
    "brand.lower() == \"nike\""
   ]
  },
  {
   "cell_type": "markdown",
   "id": "ae1e375d-5cde-46fa-bf34-14fba3e72d5b",
   "metadata": {},
   "source": [
    "Next let's look at building a compound logical comparison.  While not required, it's a good idea to think about using parentheses around each comparison to make it easier to read."
   ]
  },
  {
   "cell_type": "code",
   "execution_count": null,
   "id": "a5a5e7ac-b486-406c-8850-59bf43295be9",
   "metadata": {
    "tags": []
   },
   "outputs": [],
   "source": [
    "# Compound logical comparison where all 3 conditions must be true\n",
    "(len(brand) > 3) and (brand.lower() != \"nike\") and (type(brand) == \"str\")"
   ]
  },
  {
   "cell_type": "code",
   "execution_count": null,
   "id": "9937ddd1-43be-4ea9-b804-7f041bd530be",
   "metadata": {
    "tags": []
   },
   "outputs": [],
   "source": [
    "# Compound logical comparison where 1 of 2 must be true, and then a 3rd must resolve to true\n",
    "(len(brand) > 3) or (brand.lower() != \"nike\") and (type(brand) == \"str\")"
   ]
  },
  {
   "cell_type": "markdown",
   "id": "e9bec5d0-9b66-4652-9975-7a9b62e75053",
   "metadata": {},
   "source": [
    "Lastly let's build a list of brands containing multiple, and then check to see if a name brand we like is contained within."
   ]
  },
  {
   "cell_type": "code",
   "execution_count": null,
   "id": "6293fc5a-0d92-455c-884b-db44e68089ac",
   "metadata": {
    "tags": []
   },
   "outputs": [],
   "source": [
    "brands = [\"nike\", \"reebok\", \"addidas\", \"new balance\"]"
   ]
  },
  {
   "cell_type": "code",
   "execution_count": null,
   "id": "476dd3db-fdae-4afc-9150-c680397a56b6",
   "metadata": {
    "tags": []
   },
   "outputs": [],
   "source": [
    "print(\"frye\" in brands)\n",
    "print(\"frye\" not in brands)"
   ]
  },
  {
   "cell_type": "markdown",
   "id": "ee3acd81-f0fe-4552-baf3-e6da66e48781",
   "metadata": {},
   "source": [
    "We've already seen several numeric logical comparisons, but here's a few more for good measure."
   ]
  },
  {
   "cell_type": "code",
   "execution_count": null,
   "id": "49e4dfe7-8f07-4e05-b606-74c54816d316",
   "metadata": {},
   "outputs": [],
   "source": [
    "# Single equals are for assignments\n",
    "x = 10"
   ]
  },
  {
   "cell_type": "code",
   "execution_count": null,
   "id": "1c58c7a8-540e-4fc3-96ea-7f7824c73e0f",
   "metadata": {
    "tags": []
   },
   "outputs": [],
   "source": [
    "# Double equals are for logical comparisons\n",
    "x == 10"
   ]
  },
  {
   "cell_type": "code",
   "execution_count": null,
   "id": "4f79f205-9783-4322-ba24-59c5af87dd0b",
   "metadata": {
    "tags": []
   },
   "outputs": [],
   "source": [
    "(x < 20) and (x > 5) and (10 in [5,10,15])"
   ]
  },
  {
   "cell_type": "code",
   "execution_count": null,
   "id": "18bdf26a-4277-4af6-9052-c96f1a3c2118",
   "metadata": {
    "tags": []
   },
   "outputs": [],
   "source": [
    "(x != 10) | (x > 3)"
   ]
  },
  {
   "cell_type": "markdown",
   "id": "252dd8e2-3d67-4f6d-8672-317534baf05e",
   "metadata": {
    "tags": []
   },
   "source": [
    "### __Conditionals__"
   ]
  },
  {
   "cell_type": "markdown",
   "id": "9c1eb26b-c0de-49ca-9bba-6f16215b7af5",
   "metadata": {},
   "source": [
    "Conditional expressions open up a world of possibilities for the programs we'll write.  We can think of these simply as \"if the following is TRUE, then do something, but if it's not TRUE, then do something else\".\n",
    "\n",
    "Conditional expressions come in 3 flavors:\n",
    " - if\n",
    " - if - else\n",
    " - if - else if (elif) - else"
   ]
  },
  {
   "cell_type": "markdown",
   "id": "ffdd12df-7424-4a31-b8fe-0ebf0e8b8525",
   "metadata": {},
   "source": [
    "#### if Statements"
   ]
  },
  {
   "cell_type": "markdown",
   "id": "18f3a510-6f19-4850-a647-7c8de1c9a18b",
   "metadata": {},
   "source": [
    "The syntax for if statements is well syntactically structured and easy to follow.\n",
    " - First, use `if` code, then some condition you want to evaluate like `5 < 10` followed by a colon `:`.\n",
    " - On the next row, indent by hitting _tab_\n",
    " - Place whatever you want to happen if the `if 5 < 10` statement evaluates to TRUE"
   ]
  },
  {
   "cell_type": "code",
   "execution_count": null,
   "id": "a47731e6-8644-4be5-9d07-388a5cba1747",
   "metadata": {
    "tags": []
   },
   "outputs": [],
   "source": [
    "# Single condition must evaluate to TRUE to fire the print statement\n",
    "if 5 < 10:\n",
    "    print(\"Yes, 5 is less than 10.\")"
   ]
  },
  {
   "cell_type": "markdown",
   "id": "d95403fc-b289-415e-bc22-bd9b97c22aed",
   "metadata": {},
   "source": [
    "The catch here with _if_ statements is there is no \"else\" condition.  So if the first and only condition evaluates to FALSE, then nothing will execute and the code will end.  This is ok, it just may not be what you actually want to happen.\n",
    "\n",
    "If it's not, maybe you actually want the next type called an if-else statement, which has executable code regardless of whether the conditional resolves to TRUE or FALSE."
   ]
  },
  {
   "cell_type": "markdown",
   "id": "ccb11ff6-eb78-4360-b798-634c6e545424",
   "metadata": {},
   "source": [
    "#### if-else Statements"
   ]
  },
  {
   "cell_type": "markdown",
   "id": "912d07b2-374f-4461-bdaf-724e0348f390",
   "metadata": {},
   "source": [
    "if-else statements are the same as plain if statements, with the exception that there is now an \"else\" clause that will capture what happens if the condition evaluates to FALSE."
   ]
  },
  {
   "cell_type": "code",
   "execution_count": null,
   "id": "fda5c7ef-629f-452c-a175-ed57ee0e65d5",
   "metadata": {
    "tags": []
   },
   "outputs": [],
   "source": [
    "# Create a list of sports\n",
    "sports = [\"baseball\", \"golf\", \"volleyball\", \"football\", \"basketball\"]"
   ]
  },
  {
   "cell_type": "code",
   "execution_count": null,
   "id": "7535c42d-8f62-4a2b-b818-9cf2d46bf6a0",
   "metadata": {
    "tags": []
   },
   "outputs": [],
   "source": [
    "# If-else statement with both a TRUE and a FALSE clause\n",
    "if \"soccer\" in sports:\n",
    "    print(\"Yes, soccer is available.\")\n",
    "else:\n",
    "    print(\"No, soccer is NOT available.\")"
   ]
  },
  {
   "cell_type": "markdown",
   "id": "54399382-fedf-4b3c-947c-f998eea761d9",
   "metadata": {},
   "source": [
    "#### if-else if-else (elif) Statements"
   ]
  },
  {
   "cell_type": "markdown",
   "id": "69ba45f2-5c94-4be2-a228-dc7019cbbe12",
   "metadata": {},
   "source": [
    "if-else if-else statements, better known as if-elif-else, allow for more than just the two conditions.\n",
    "\n",
    "Python will run each conditional test in sequence until one condition evaluates to TRUE, execute the code for that condition, and then skip the rest of the elif blocks.  If none are TRUE then it will execute the final \"else\" statement."
   ]
  },
  {
   "cell_type": "markdown",
   "id": "3da27c41-20e3-43a0-91a4-358de71964e9",
   "metadata": {},
   "source": [
    "The new syntax below is just the addition of several `elif:` conditions in the middle between the `if` and the final `else`.  And also that instead of just a print statement as the return, we're actually storing a value in a variable called \"grade\", that we want to access after the code block completes."
   ]
  },
  {
   "cell_type": "markdown",
   "id": "7a0ab100-5547-41a2-9ce9-c98ca7bb02d2",
   "metadata": {},
   "source": [
    "Let's try it out with a grading scenario.\n",
    "\n",
    "- A grades are given for scores >= 90\n",
    "- B grades are given for scores between 79 and 90\n",
    "- C grades are given for scores between 69 and 80\n",
    "- D grades are given for scores between 59 and 70\n",
    "- F grades are given for scores < 60"
   ]
  },
  {
   "cell_type": "code",
   "execution_count": null,
   "id": "14861c86-7487-4124-a240-8f151dab6199",
   "metadata": {
    "tags": []
   },
   "outputs": [],
   "source": [
    "# Set your age and the age limit for ticket prices\n",
    "score = 85\n",
    "\n",
    "# Check to see what your grade will be\n",
    "if score >= 90:\n",
    "    grade = \"A\"\n",
    "elif score > 79 and score < 90:\n",
    "    grade = \"B\"\n",
    "elif score > 69 and score < 80:\n",
    "    grade = \"C\"\n",
    "elif score > 59 and score < 70:\n",
    "    grade = \"D\"\n",
    "else:\n",
    "    grade = \"F\"\n",
    "\n",
    "# Congratulate for an A or B grade\n",
    "if grade in [\"A\",\"B\"]:\n",
    "    additional_comment = \"Nicely done!\"\n",
    "else:\n",
    "    additional_comment = \"\"\n",
    "\n",
    "print(f\"Based on your test scores, your grade in this class will be a {grade}.\")\n",
    "print(additional_comment)"
   ]
  },
  {
   "cell_type": "markdown",
   "id": "41d843e3-896a-483f-8617-23ec8a14c9e3",
   "metadata": {
    "tags": []
   },
   "source": [
    "### __Looping__"
   ]
  },
  {
   "cell_type": "markdown",
   "id": "4521687c-6e96-4c49-bbda-cbff68da5667",
   "metadata": {},
   "source": [
    "Finally arriving at the topic of looping.  Up until this point we've been dealing with single values or simple operations.  At this stage we need the ability to _iterate_ over an object and repeatedly perform some kind of operation on it.\n",
    "\n",
    "We have two variants to cover here.\n",
    " - for Loops\n",
    " - while Loops"
   ]
  },
  {
   "cell_type": "markdown",
   "id": "801a6bc4-0df0-4905-89fa-9239f1fa0cef",
   "metadata": {},
   "source": [
    "#### for Loop"
   ]
  },
  {
   "cell_type": "markdown",
   "id": "6dc9bf74-165e-484b-9ec5-17a14fd046d0",
   "metadata": {
    "tags": []
   },
   "source": [
    "_for loops_ allow us to \"loop\" through an object like a list, and then take some action on each iteration.  The syntax is `for`, some user defined variable or word like `x` in this case, followed by `in`, and then some collection of values like a list `[1,2,3,4,5]`.\n",
    "\n",
    "The way to read the example below would be just as it looks - \"for x in some list\".  The way to interpret is \"on the first iteration, x becomes the value of 1, on the second iteration x becomes the value of 2, and so on until the end of the list\".  So in this case we will have 5 iterations, or loops, through the code and the `print(x)` statement will run for each iteration and print the value of `x` at that time.\n",
    "\n",
    "It sounds complicated but it will become second nature.  Let's just jump in and run the code below."
   ]
  },
  {
   "cell_type": "code",
   "execution_count": null,
   "id": "fab6f2c5-84a0-424e-8367-cd4f8f8c6e12",
   "metadata": {
    "tags": []
   },
   "outputs": [],
   "source": [
    "for x in [1,2,3,4,5]:\n",
    "    print(x)"
   ]
  },
  {
   "cell_type": "markdown",
   "id": "a99ae168-77c9-43a1-ad99-e87c07fe9d94",
   "metadata": {},
   "source": [
    "Let's run another simple example making it a little more explicit.  Notice how we changed the `x` to something that makes sense for the example."
   ]
  },
  {
   "cell_type": "code",
   "execution_count": null,
   "id": "8abc65d7-2814-4476-82e4-1f73b83348b4",
   "metadata": {
    "tags": []
   },
   "outputs": [],
   "source": [
    "for iteration_number in [1,2,3,4,5]:\n",
    "    print(f\"This is loop iteration {iteration_number}\")"
   ]
  },
  {
   "cell_type": "markdown",
   "id": "fd832bb2-c95c-49ba-9fd9-c7bbd08fc240",
   "metadata": {},
   "source": [
    "Now an example as if we were running a restuarant and automatically texting someone their order status."
   ]
  },
  {
   "cell_type": "code",
   "execution_count": null,
   "id": "27e6f53a-c6ce-4eea-aeb8-8e216d696596",
   "metadata": {
    "tags": []
   },
   "outputs": [],
   "source": [
    "# Set the customer order number in a container variable\n",
    "cust_order_no = 76\n",
    "\n",
    "# Iterate through a for loop simulating food order numbers being called\n",
    "for order_no in range(73, 78):\n",
    "    print(f\"\\nThe current order number is {order_no}.\")\n",
    "    \n",
    "    if cust_order_no <= order_no :\n",
    "        print(\"Your order is now ready!  Please pickup at the window.\")\n",
    "    else:\n",
    "        print(\"Sorry, your order is still being cooked.\")"
   ]
  },
  {
   "cell_type": "markdown",
   "id": "a8bb2bb2-d1f9-4515-bfa2-d09a7e802a62",
   "metadata": {},
   "source": [
    "#### while Loop"
   ]
  },
  {
   "cell_type": "markdown",
   "id": "f1efd144-01c3-48d5-9c1f-c5d99cb2100f",
   "metadata": {},
   "source": [
    "While loops are very similar to for loops.  The difference is that with for loops the code will run once for each element in the collection, but with a while loop the code will run indefinitely as long as, or _while_, a specific condition is TRUE."
   ]
  },
  {
   "cell_type": "markdown",
   "id": "c8f47bf8-f1c4-4d20-94ec-52e66bf75def",
   "metadata": {},
   "source": [
    "The syntax for while loops is mostly consistent with what we've been dealing with so far.  A couple of new things here though.  We first initialize a container to indicate an \"iteration\" or counter number.  This is extremely common when you want to run something a number of times.  Also notice at the end of the while loop there's an odd looking `+=` code.  This is python's shortcut way to say add 1 to whatever value is alread in the `iteration` container.  It's a shorthand way to write `iteration = iteration + 1`."
   ]
  },
  {
   "cell_type": "code",
   "execution_count": null,
   "id": "8844d82c-0573-4f59-8d72-5a82b440b971",
   "metadata": {
    "tags": []
   },
   "outputs": [],
   "source": [
    "# Initialize the \"iteration\" container to 1\n",
    "iteration = 1\n",
    "\n",
    "# Run the while loop as long as our iterations are less than 5\n",
    "while iteration <= 4:\n",
    "    print(iteration)\n",
    "    iteration += 1"
   ]
  },
  {
   "cell_type": "markdown",
   "id": "ec64deb6-c731-4181-bfee-0a70876c24b9",
   "metadata": {},
   "source": [
    "We're definitely going to get ahead ourselves next, but here's a real world example of how you might use a _while loop_."
   ]
  },
  {
   "cell_type": "markdown",
   "id": "b84e5e5b-743b-43aa-a5e3-32fcb8b9324d",
   "metadata": {
    "tags": []
   },
   "source": [
    "No need to really understand the details of all of the new stuff just yet, so for now just understand that we're extending the standard functionality of python by importing external libraries called \"numpy\" and \"matplotlib\".  What this does is bring us new functions and methods we didn't have access to before.  You'll learn much more about this soon."
   ]
  },
  {
   "cell_type": "code",
   "execution_count": null,
   "id": "86420b30-cc69-419b-af3e-1efb21254bb1",
   "metadata": {
    "tags": []
   },
   "outputs": [],
   "source": [
    "# Import external libraries\n",
    "import numpy as np\n",
    "import matplotlib.pyplot as plt "
   ]
  },
  {
   "cell_type": "markdown",
   "id": "f90f321c-5dfd-451a-8d1e-3ed6c77d1bf7",
   "metadata": {},
   "source": [
    "Now, let's set up a simulation of a coin flipping game using a _while loop_.\n",
    "\n",
    "The rules are simple.  We're playing a coin flipping game that pays us 1 token if we land on HEADS, and costs us 1 token if we land on TAILS.  We're starting off with 10 tokens and will play until we run out of tokens and can no longer play.\n",
    "\n",
<<<<<<< HEAD
    "Give it a try (see if you can figure out and understand what each piece of code is doing)."
=======
    "Give it a try (see if you can figure out and understand what each piece of code is doing).  Play the game multiple times and notice the difference in your outcomes."
>>>>>>> ff311023dc337b7daa4fdd07e24f919da49fe36e
   ]
  },
  {
   "cell_type": "code",
   "execution_count": null,
   "id": "830e7a32-def5-4036-9958-af5d1e5edbd0",
   "metadata": {
    "tags": []
   },
   "outputs": [],
   "source": [
    "# Initialize the containers\n",
    "win_if = \"HEADS\"\n",
    "tokens = 10\n",
    "tokens_seq = [tokens]\n",
    "\n",
    "# Simulation playing the coin flipping game\n",
    "while tokens > 0:\n",
    "    cur_flip = np.random.choice([\"HEADS\",\"tails\"], size = 1, p = [.5,.5])\n",
    "\n",
    "    if cur_flip == win_if:\n",
    "        tokens += 1\n",
    "    else:\n",
    "        tokens -= 1\n",
    "\n",
    "    tokens_seq.append(tokens)\n",
    "        \n",
    "print(f\"We finally ran out of tokens with {len(tokens_seq)} flips!\")\n",
    "print(f\"At our highest point we had {max(tokens_seq)} tokens!\")"
   ]
  },
  {
   "cell_type": "code",
   "execution_count": null,
   "id": "db2eb0d5-5f68-4aea-ab01-a87bae570004",
   "metadata": {},
   "outputs": [],
   "source": [
    "# Plot the cummulative total of our tokens over time until we run out\n",
    "plt.plot(tokens_seq)\n",
    "plt.ylabel(\"Total Tokens\")\n",
    "plt.xlabel(\"Flip Number\")\n",
    "plt.show()"
   ]
  }
 ],
 "metadata": {
  "kernelspec": {
   "display_name": "Python 3 (ipykernel)",
   "language": "python",
   "name": "python3"
  },
  "language_info": {
   "codemirror_mode": {
    "name": "ipython",
    "version": 3
   },
   "file_extension": ".py",
   "mimetype": "text/x-python",
   "name": "python",
   "nbconvert_exporter": "python",
   "pygments_lexer": "ipython3",
   "version": "3.11.5"
  }
 },
 "nbformat": 4,
 "nbformat_minor": 5
}
